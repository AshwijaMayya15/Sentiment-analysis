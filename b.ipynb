{
 "cells": [
  {
   "cell_type": "code",
   "execution_count": 1,
   "metadata": {},
   "outputs": [],
   "source": [
    "import pandas as pd\n",
    "import numpy as np\n",
    "\n",
    "from sklearn.feature_extraction.text import TfidfVectorizer\n",
    "from sklearn.model_selection import train_test_split\n",
    "from sklearn.metrics import accuracy_score, classification_report\n",
    "\n",
    "\n",
    "from sklearn.ensemble import RandomForestClassifier\n",
    "from sklearn.naive_bayes import MultinomialNB\n",
    "from sklearn.preprocessing import LabelEncoder\n",
    "from sklearn.pipeline import Pipeline\n",
    "\n",
    "import spacy\n",
    "\n",
    "import warnings\n",
    "warnings.filterwarnings('ignore')"
   ]
  },
  {
   "cell_type": "code",
   "execution_count": 2,
   "metadata": {},
   "outputs": [],
   "source": [
    "col = ['id','country','Label','Text']\n",
    "data = pd.read_csv(\"twitter_training.csv\", names=col)"
   ]
  },
  {
   "cell_type": "code",
   "execution_count": 3,
   "metadata": {},
   "outputs": [
    {
     "data": {
      "text/html": [
       "<div>\n",
       "<style scoped>\n",
       "    .dataframe tbody tr th:only-of-type {\n",
       "        vertical-align: middle;\n",
       "    }\n",
       "\n",
       "    .dataframe tbody tr th {\n",
       "        vertical-align: top;\n",
       "    }\n",
       "\n",
       "    .dataframe thead th {\n",
       "        text-align: right;\n",
       "    }\n",
       "</style>\n",
       "<table border=\"1\" class=\"dataframe\">\n",
       "  <thead>\n",
       "    <tr style=\"text-align: right;\">\n",
       "      <th></th>\n",
       "      <th>id</th>\n",
       "      <th>country</th>\n",
       "      <th>Label</th>\n",
       "      <th>Text</th>\n",
       "    </tr>\n",
       "  </thead>\n",
       "  <tbody>\n",
       "    <tr>\n",
       "      <th>0</th>\n",
       "      <td>2401</td>\n",
       "      <td>Borderlands</td>\n",
       "      <td>Positive</td>\n",
       "      <td>im getting on borderlands and i will murder yo...</td>\n",
       "    </tr>\n",
       "    <tr>\n",
       "      <th>1</th>\n",
       "      <td>2401</td>\n",
       "      <td>Borderlands</td>\n",
       "      <td>Positive</td>\n",
       "      <td>I am coming to the borders and I will kill you...</td>\n",
       "    </tr>\n",
       "    <tr>\n",
       "      <th>2</th>\n",
       "      <td>2401</td>\n",
       "      <td>Borderlands</td>\n",
       "      <td>Positive</td>\n",
       "      <td>im getting on borderlands and i will kill you ...</td>\n",
       "    </tr>\n",
       "    <tr>\n",
       "      <th>3</th>\n",
       "      <td>2401</td>\n",
       "      <td>Borderlands</td>\n",
       "      <td>Positive</td>\n",
       "      <td>im coming on borderlands and i will murder you...</td>\n",
       "    </tr>\n",
       "    <tr>\n",
       "      <th>4</th>\n",
       "      <td>2401</td>\n",
       "      <td>Borderlands</td>\n",
       "      <td>Positive</td>\n",
       "      <td>im getting on borderlands 2 and i will murder ...</td>\n",
       "    </tr>\n",
       "  </tbody>\n",
       "</table>\n",
       "</div>"
      ],
      "text/plain": [
       "     id      country     Label  \\\n",
       "0  2401  Borderlands  Positive   \n",
       "1  2401  Borderlands  Positive   \n",
       "2  2401  Borderlands  Positive   \n",
       "3  2401  Borderlands  Positive   \n",
       "4  2401  Borderlands  Positive   \n",
       "\n",
       "                                                Text  \n",
       "0  im getting on borderlands and i will murder yo...  \n",
       "1  I am coming to the borders and I will kill you...  \n",
       "2  im getting on borderlands and i will kill you ...  \n",
       "3  im coming on borderlands and i will murder you...  \n",
       "4  im getting on borderlands 2 and i will murder ...  "
      ]
     },
     "execution_count": 3,
     "metadata": {},
     "output_type": "execute_result"
    }
   ],
   "source": [
    "data.head()\n"
   ]
  },
  {
   "cell_type": "code",
   "execution_count": 4,
   "metadata": {},
   "outputs": [
    {
     "data": {
      "text/html": [
       "<div>\n",
       "<style scoped>\n",
       "    .dataframe tbody tr th:only-of-type {\n",
       "        vertical-align: middle;\n",
       "    }\n",
       "\n",
       "    .dataframe tbody tr th {\n",
       "        vertical-align: top;\n",
       "    }\n",
       "\n",
       "    .dataframe thead th {\n",
       "        text-align: right;\n",
       "    }\n",
       "</style>\n",
       "<table border=\"1\" class=\"dataframe\">\n",
       "  <thead>\n",
       "    <tr style=\"text-align: right;\">\n",
       "      <th></th>\n",
       "      <th>id</th>\n",
       "      <th>country</th>\n",
       "      <th>Label</th>\n",
       "      <th>Text</th>\n",
       "    </tr>\n",
       "  </thead>\n",
       "  <tbody>\n",
       "    <tr>\n",
       "      <th>74677</th>\n",
       "      <td>9200</td>\n",
       "      <td>Nvidia</td>\n",
       "      <td>Positive</td>\n",
       "      <td>Just realized that the Windows partition of my...</td>\n",
       "    </tr>\n",
       "    <tr>\n",
       "      <th>74678</th>\n",
       "      <td>9200</td>\n",
       "      <td>Nvidia</td>\n",
       "      <td>Positive</td>\n",
       "      <td>Just realized that my Mac window partition is ...</td>\n",
       "    </tr>\n",
       "    <tr>\n",
       "      <th>74679</th>\n",
       "      <td>9200</td>\n",
       "      <td>Nvidia</td>\n",
       "      <td>Positive</td>\n",
       "      <td>Just realized the windows partition of my Mac ...</td>\n",
       "    </tr>\n",
       "    <tr>\n",
       "      <th>74680</th>\n",
       "      <td>9200</td>\n",
       "      <td>Nvidia</td>\n",
       "      <td>Positive</td>\n",
       "      <td>Just realized between the windows partition of...</td>\n",
       "    </tr>\n",
       "    <tr>\n",
       "      <th>74681</th>\n",
       "      <td>9200</td>\n",
       "      <td>Nvidia</td>\n",
       "      <td>Positive</td>\n",
       "      <td>Just like the windows partition of my Mac is l...</td>\n",
       "    </tr>\n",
       "  </tbody>\n",
       "</table>\n",
       "</div>"
      ],
      "text/plain": [
       "         id country     Label  \\\n",
       "74677  9200  Nvidia  Positive   \n",
       "74678  9200  Nvidia  Positive   \n",
       "74679  9200  Nvidia  Positive   \n",
       "74680  9200  Nvidia  Positive   \n",
       "74681  9200  Nvidia  Positive   \n",
       "\n",
       "                                                    Text  \n",
       "74677  Just realized that the Windows partition of my...  \n",
       "74678  Just realized that my Mac window partition is ...  \n",
       "74679  Just realized the windows partition of my Mac ...  \n",
       "74680  Just realized between the windows partition of...  \n",
       "74681  Just like the windows partition of my Mac is l...  "
      ]
     },
     "execution_count": 4,
     "metadata": {},
     "output_type": "execute_result"
    }
   ],
   "source": [
    "data.tail()"
   ]
  },
  {
   "cell_type": "code",
   "execution_count": 5,
   "metadata": {},
   "outputs": [
    {
     "data": {
      "text/plain": [
       "(74682, 4)"
      ]
     },
     "execution_count": 5,
     "metadata": {},
     "output_type": "execute_result"
    }
   ],
   "source": [
    "data.shape"
   ]
  },
  {
   "cell_type": "code",
   "execution_count": 6,
   "metadata": {},
   "outputs": [
    {
     "name": "stdout",
     "output_type": "stream",
     "text": [
      "<class 'pandas.core.frame.DataFrame'>\n",
      "RangeIndex: 74682 entries, 0 to 74681\n",
      "Data columns (total 4 columns):\n",
      " #   Column   Non-Null Count  Dtype \n",
      "---  ------   --------------  ----- \n",
      " 0   id       74682 non-null  int64 \n",
      " 1   country  74682 non-null  object\n",
      " 2   Label    74682 non-null  object\n",
      " 3   Text     73996 non-null  object\n",
      "dtypes: int64(1), object(3)\n",
      "memory usage: 2.3+ MB\n"
     ]
    }
   ],
   "source": [
    "data.info()"
   ]
  },
  {
   "cell_type": "code",
   "execution_count": 7,
   "metadata": {},
   "outputs": [
    {
     "data": {
      "text/plain": [
       "Label\n",
       "Negative      22542\n",
       "Positive      20832\n",
       "Neutral       18318\n",
       "Irrelevant    12990\n",
       "Name: count, dtype: int64"
      ]
     },
     "execution_count": 7,
     "metadata": {},
     "output_type": "execute_result"
    }
   ],
   "source": [
    "data['Label'].value_counts()"
   ]
  },
  {
   "cell_type": "code",
   "execution_count": 8,
   "metadata": {},
   "outputs": [
    {
     "name": "stdout",
     "output_type": "stream",
     "text": [
      "im getting on borderlands and i will kill you all, -> Positive\n"
     ]
    }
   ],
   "source": [
    "print(f\"{data['Text'][2]} -> {data['Label'][2]}\")"
   ]
  },
  {
   "cell_type": "code",
   "execution_count": 9,
   "metadata": {},
   "outputs": [],
   "source": [
    "data.dropna(inplace=True)\n",
    "# Preprocess Function\n",
    "nlp = spacy.load(\"en_core_web_sm\") \n",
    "def preprocess(text):\n",
    "    doc = nlp(text)\n",
    "    filtered_tokens = []\n",
    "    for token in doc:\n",
    "        if token.is_stop or token.is_punct:\n",
    "            continue\n",
    "        filtered_tokens.append(token.lemma_)\n",
    "    \n",
    "    return \" \".join(filtered_tokens) \n",
    "data['Preprocessed Text'] = data['Text'].apply(preprocess) "
   ]
  },
  {
   "cell_type": "code",
   "execution_count": 10,
   "metadata": {},
   "outputs": [
    {
     "data": {
      "text/html": [
       "<div>\n",
       "<style scoped>\n",
       "    .dataframe tbody tr th:only-of-type {\n",
       "        vertical-align: middle;\n",
       "    }\n",
       "\n",
       "    .dataframe tbody tr th {\n",
       "        vertical-align: top;\n",
       "    }\n",
       "\n",
       "    .dataframe thead th {\n",
       "        text-align: right;\n",
       "    }\n",
       "</style>\n",
       "<table border=\"1\" class=\"dataframe\">\n",
       "  <thead>\n",
       "    <tr style=\"text-align: right;\">\n",
       "      <th></th>\n",
       "      <th>id</th>\n",
       "      <th>country</th>\n",
       "      <th>Label</th>\n",
       "      <th>Text</th>\n",
       "      <th>Preprocessed Text</th>\n",
       "    </tr>\n",
       "  </thead>\n",
       "  <tbody>\n",
       "    <tr>\n",
       "      <th>0</th>\n",
       "      <td>2401</td>\n",
       "      <td>Borderlands</td>\n",
       "      <td>Positive</td>\n",
       "      <td>im getting on borderlands and i will murder yo...</td>\n",
       "      <td>m get borderland murder</td>\n",
       "    </tr>\n",
       "    <tr>\n",
       "      <th>1</th>\n",
       "      <td>2401</td>\n",
       "      <td>Borderlands</td>\n",
       "      <td>Positive</td>\n",
       "      <td>I am coming to the borders and I will kill you...</td>\n",
       "      <td>come border kill</td>\n",
       "    </tr>\n",
       "    <tr>\n",
       "      <th>2</th>\n",
       "      <td>2401</td>\n",
       "      <td>Borderlands</td>\n",
       "      <td>Positive</td>\n",
       "      <td>im getting on borderlands and i will kill you ...</td>\n",
       "      <td>m get borderland kill</td>\n",
       "    </tr>\n",
       "    <tr>\n",
       "      <th>3</th>\n",
       "      <td>2401</td>\n",
       "      <td>Borderlands</td>\n",
       "      <td>Positive</td>\n",
       "      <td>im coming on borderlands and i will murder you...</td>\n",
       "      <td>m come borderland murder</td>\n",
       "    </tr>\n",
       "    <tr>\n",
       "      <th>4</th>\n",
       "      <td>2401</td>\n",
       "      <td>Borderlands</td>\n",
       "      <td>Positive</td>\n",
       "      <td>im getting on borderlands 2 and i will murder ...</td>\n",
       "      <td>m get borderland 2 murder</td>\n",
       "    </tr>\n",
       "    <tr>\n",
       "      <th>...</th>\n",
       "      <td>...</td>\n",
       "      <td>...</td>\n",
       "      <td>...</td>\n",
       "      <td>...</td>\n",
       "      <td>...</td>\n",
       "    </tr>\n",
       "    <tr>\n",
       "      <th>74677</th>\n",
       "      <td>9200</td>\n",
       "      <td>Nvidia</td>\n",
       "      <td>Positive</td>\n",
       "      <td>Just realized that the Windows partition of my...</td>\n",
       "      <td>realize Windows partition Mac like 6 year Nvid...</td>\n",
       "    </tr>\n",
       "    <tr>\n",
       "      <th>74678</th>\n",
       "      <td>9200</td>\n",
       "      <td>Nvidia</td>\n",
       "      <td>Positive</td>\n",
       "      <td>Just realized that my Mac window partition is ...</td>\n",
       "      <td>realize Mac window partition 6 year Nvidia dri...</td>\n",
       "    </tr>\n",
       "    <tr>\n",
       "      <th>74679</th>\n",
       "      <td>9200</td>\n",
       "      <td>Nvidia</td>\n",
       "      <td>Positive</td>\n",
       "      <td>Just realized the windows partition of my Mac ...</td>\n",
       "      <td>realize window partition Mac 6 year Nvidia dri...</td>\n",
       "    </tr>\n",
       "    <tr>\n",
       "      <th>74680</th>\n",
       "      <td>9200</td>\n",
       "      <td>Nvidia</td>\n",
       "      <td>Positive</td>\n",
       "      <td>Just realized between the windows partition of...</td>\n",
       "      <td>realize window partition Mac like 6 year Nvidi...</td>\n",
       "    </tr>\n",
       "    <tr>\n",
       "      <th>74681</th>\n",
       "      <td>9200</td>\n",
       "      <td>Nvidia</td>\n",
       "      <td>Positive</td>\n",
       "      <td>Just like the windows partition of my Mac is l...</td>\n",
       "      <td>like window partition Mac like 6 year driver i...</td>\n",
       "    </tr>\n",
       "  </tbody>\n",
       "</table>\n",
       "<p>73996 rows × 5 columns</p>\n",
       "</div>"
      ],
      "text/plain": [
       "         id      country     Label  \\\n",
       "0      2401  Borderlands  Positive   \n",
       "1      2401  Borderlands  Positive   \n",
       "2      2401  Borderlands  Positive   \n",
       "3      2401  Borderlands  Positive   \n",
       "4      2401  Borderlands  Positive   \n",
       "...     ...          ...       ...   \n",
       "74677  9200       Nvidia  Positive   \n",
       "74678  9200       Nvidia  Positive   \n",
       "74679  9200       Nvidia  Positive   \n",
       "74680  9200       Nvidia  Positive   \n",
       "74681  9200       Nvidia  Positive   \n",
       "\n",
       "                                                    Text  \\\n",
       "0      im getting on borderlands and i will murder yo...   \n",
       "1      I am coming to the borders and I will kill you...   \n",
       "2      im getting on borderlands and i will kill you ...   \n",
       "3      im coming on borderlands and i will murder you...   \n",
       "4      im getting on borderlands 2 and i will murder ...   \n",
       "...                                                  ...   \n",
       "74677  Just realized that the Windows partition of my...   \n",
       "74678  Just realized that my Mac window partition is ...   \n",
       "74679  Just realized the windows partition of my Mac ...   \n",
       "74680  Just realized between the windows partition of...   \n",
       "74681  Just like the windows partition of my Mac is l...   \n",
       "\n",
       "                                       Preprocessed Text  \n",
       "0                                m get borderland murder  \n",
       "1                                       come border kill  \n",
       "2                                  m get borderland kill  \n",
       "3                               m come borderland murder  \n",
       "4                              m get borderland 2 murder  \n",
       "...                                                  ...  \n",
       "74677  realize Windows partition Mac like 6 year Nvid...  \n",
       "74678  realize Mac window partition 6 year Nvidia dri...  \n",
       "74679  realize window partition Mac 6 year Nvidia dri...  \n",
       "74680  realize window partition Mac like 6 year Nvidi...  \n",
       "74681  like window partition Mac like 6 year driver i...  \n",
       "\n",
       "[73996 rows x 5 columns]"
      ]
     },
     "execution_count": 10,
     "metadata": {},
     "output_type": "execute_result"
    }
   ],
   "source": [
    "data"
   ]
  },
  {
   "cell_type": "code",
   "execution_count": 11,
   "metadata": {},
   "outputs": [],
   "source": [
    "le = LabelEncoder()\n",
    "data['Label'] = le.fit_transform(data['Label'])"
   ]
  },
  {
   "cell_type": "code",
   "execution_count": 12,
   "metadata": {},
   "outputs": [
    {
     "data": {
      "text/html": [
       "<div>\n",
       "<style scoped>\n",
       "    .dataframe tbody tr th:only-of-type {\n",
       "        vertical-align: middle;\n",
       "    }\n",
       "\n",
       "    .dataframe tbody tr th {\n",
       "        vertical-align: top;\n",
       "    }\n",
       "\n",
       "    .dataframe thead th {\n",
       "        text-align: right;\n",
       "    }\n",
       "</style>\n",
       "<table border=\"1\" class=\"dataframe\">\n",
       "  <thead>\n",
       "    <tr style=\"text-align: right;\">\n",
       "      <th></th>\n",
       "      <th>id</th>\n",
       "      <th>country</th>\n",
       "      <th>Label</th>\n",
       "      <th>Text</th>\n",
       "      <th>Preprocessed Text</th>\n",
       "    </tr>\n",
       "  </thead>\n",
       "  <tbody>\n",
       "    <tr>\n",
       "      <th>0</th>\n",
       "      <td>2401</td>\n",
       "      <td>Borderlands</td>\n",
       "      <td>3</td>\n",
       "      <td>im getting on borderlands and i will murder yo...</td>\n",
       "      <td>m get borderland murder</td>\n",
       "    </tr>\n",
       "    <tr>\n",
       "      <th>1</th>\n",
       "      <td>2401</td>\n",
       "      <td>Borderlands</td>\n",
       "      <td>3</td>\n",
       "      <td>I am coming to the borders and I will kill you...</td>\n",
       "      <td>come border kill</td>\n",
       "    </tr>\n",
       "    <tr>\n",
       "      <th>2</th>\n",
       "      <td>2401</td>\n",
       "      <td>Borderlands</td>\n",
       "      <td>3</td>\n",
       "      <td>im getting on borderlands and i will kill you ...</td>\n",
       "      <td>m get borderland kill</td>\n",
       "    </tr>\n",
       "    <tr>\n",
       "      <th>3</th>\n",
       "      <td>2401</td>\n",
       "      <td>Borderlands</td>\n",
       "      <td>3</td>\n",
       "      <td>im coming on borderlands and i will murder you...</td>\n",
       "      <td>m come borderland murder</td>\n",
       "    </tr>\n",
       "    <tr>\n",
       "      <th>4</th>\n",
       "      <td>2401</td>\n",
       "      <td>Borderlands</td>\n",
       "      <td>3</td>\n",
       "      <td>im getting on borderlands 2 and i will murder ...</td>\n",
       "      <td>m get borderland 2 murder</td>\n",
       "    </tr>\n",
       "    <tr>\n",
       "      <th>...</th>\n",
       "      <td>...</td>\n",
       "      <td>...</td>\n",
       "      <td>...</td>\n",
       "      <td>...</td>\n",
       "      <td>...</td>\n",
       "    </tr>\n",
       "    <tr>\n",
       "      <th>74677</th>\n",
       "      <td>9200</td>\n",
       "      <td>Nvidia</td>\n",
       "      <td>3</td>\n",
       "      <td>Just realized that the Windows partition of my...</td>\n",
       "      <td>realize Windows partition Mac like 6 year Nvid...</td>\n",
       "    </tr>\n",
       "    <tr>\n",
       "      <th>74678</th>\n",
       "      <td>9200</td>\n",
       "      <td>Nvidia</td>\n",
       "      <td>3</td>\n",
       "      <td>Just realized that my Mac window partition is ...</td>\n",
       "      <td>realize Mac window partition 6 year Nvidia dri...</td>\n",
       "    </tr>\n",
       "    <tr>\n",
       "      <th>74679</th>\n",
       "      <td>9200</td>\n",
       "      <td>Nvidia</td>\n",
       "      <td>3</td>\n",
       "      <td>Just realized the windows partition of my Mac ...</td>\n",
       "      <td>realize window partition Mac 6 year Nvidia dri...</td>\n",
       "    </tr>\n",
       "    <tr>\n",
       "      <th>74680</th>\n",
       "      <td>9200</td>\n",
       "      <td>Nvidia</td>\n",
       "      <td>3</td>\n",
       "      <td>Just realized between the windows partition of...</td>\n",
       "      <td>realize window partition Mac like 6 year Nvidi...</td>\n",
       "    </tr>\n",
       "    <tr>\n",
       "      <th>74681</th>\n",
       "      <td>9200</td>\n",
       "      <td>Nvidia</td>\n",
       "      <td>3</td>\n",
       "      <td>Just like the windows partition of my Mac is l...</td>\n",
       "      <td>like window partition Mac like 6 year driver i...</td>\n",
       "    </tr>\n",
       "  </tbody>\n",
       "</table>\n",
       "<p>73996 rows × 5 columns</p>\n",
       "</div>"
      ],
      "text/plain": [
       "         id      country  Label  \\\n",
       "0      2401  Borderlands      3   \n",
       "1      2401  Borderlands      3   \n",
       "2      2401  Borderlands      3   \n",
       "3      2401  Borderlands      3   \n",
       "4      2401  Borderlands      3   \n",
       "...     ...          ...    ...   \n",
       "74677  9200       Nvidia      3   \n",
       "74678  9200       Nvidia      3   \n",
       "74679  9200       Nvidia      3   \n",
       "74680  9200       Nvidia      3   \n",
       "74681  9200       Nvidia      3   \n",
       "\n",
       "                                                    Text  \\\n",
       "0      im getting on borderlands and i will murder yo...   \n",
       "1      I am coming to the borders and I will kill you...   \n",
       "2      im getting on borderlands and i will kill you ...   \n",
       "3      im coming on borderlands and i will murder you...   \n",
       "4      im getting on borderlands 2 and i will murder ...   \n",
       "...                                                  ...   \n",
       "74677  Just realized that the Windows partition of my...   \n",
       "74678  Just realized that my Mac window partition is ...   \n",
       "74679  Just realized the windows partition of my Mac ...   \n",
       "74680  Just realized between the windows partition of...   \n",
       "74681  Just like the windows partition of my Mac is l...   \n",
       "\n",
       "                                       Preprocessed Text  \n",
       "0                                m get borderland murder  \n",
       "1                                       come border kill  \n",
       "2                                  m get borderland kill  \n",
       "3                               m come borderland murder  \n",
       "4                              m get borderland 2 murder  \n",
       "...                                                  ...  \n",
       "74677  realize Windows partition Mac like 6 year Nvid...  \n",
       "74678  realize Mac window partition 6 year Nvidia dri...  \n",
       "74679  realize window partition Mac 6 year Nvidia dri...  \n",
       "74680  realize window partition Mac like 6 year Nvidi...  \n",
       "74681  like window partition Mac like 6 year driver i...  \n",
       "\n",
       "[73996 rows x 5 columns]"
      ]
     },
     "execution_count": 12,
     "metadata": {},
     "output_type": "execute_result"
    }
   ],
   "source": [
    "data"
   ]
  },
  {
   "cell_type": "code",
   "execution_count": 13,
   "metadata": {},
   "outputs": [],
   "source": [
    "x_train, x_test, y_train, y_test = train_test_split(data['Preprocessed Text'], data['Label'], \n",
    "                                                    test_size=0.2, random_state=42, stratify=data['Label'])"
   ]
  },
  {
   "cell_type": "code",
   "execution_count": 14,
   "metadata": {},
   "outputs": [
    {
     "data": {
      "text/plain": [
       "(14800,)"
      ]
     },
     "execution_count": 14,
     "metadata": {},
     "output_type": "execute_result"
    }
   ],
   "source": [
    "x_test.shape"
   ]
  },
  {
   "cell_type": "code",
   "execution_count": 15,
   "metadata": {},
   "outputs": [
    {
     "data": {
      "text/plain": [
       "(59196,)"
      ]
     },
     "execution_count": 15,
     "metadata": {},
     "output_type": "execute_result"
    }
   ],
   "source": [
    "x_train.shape"
   ]
  },
  {
   "cell_type": "code",
   "execution_count": 16,
   "metadata": {},
   "outputs": [],
   "source": [
    "clf = Pipeline([\n",
    "    ('vectorizer_tri_grams', TfidfVectorizer()),\n",
    "    ('naive_bayes', (MultinomialNB()))         \n",
    "])"
   ]
  },
  {
   "cell_type": "code",
   "execution_count": 17,
   "metadata": {},
   "outputs": [
    {
     "data": {
      "text/html": [
       "<style>#sk-container-id-1 {color: black;}#sk-container-id-1 pre{padding: 0;}#sk-container-id-1 div.sk-toggleable {background-color: white;}#sk-container-id-1 label.sk-toggleable__label {cursor: pointer;display: block;width: 100%;margin-bottom: 0;padding: 0.3em;box-sizing: border-box;text-align: center;}#sk-container-id-1 label.sk-toggleable__label-arrow:before {content: \"▸\";float: left;margin-right: 0.25em;color: #696969;}#sk-container-id-1 label.sk-toggleable__label-arrow:hover:before {color: black;}#sk-container-id-1 div.sk-estimator:hover label.sk-toggleable__label-arrow:before {color: black;}#sk-container-id-1 div.sk-toggleable__content {max-height: 0;max-width: 0;overflow: hidden;text-align: left;background-color: #f0f8ff;}#sk-container-id-1 div.sk-toggleable__content pre {margin: 0.2em;color: black;border-radius: 0.25em;background-color: #f0f8ff;}#sk-container-id-1 input.sk-toggleable__control:checked~div.sk-toggleable__content {max-height: 200px;max-width: 100%;overflow: auto;}#sk-container-id-1 input.sk-toggleable__control:checked~label.sk-toggleable__label-arrow:before {content: \"▾\";}#sk-container-id-1 div.sk-estimator input.sk-toggleable__control:checked~label.sk-toggleable__label {background-color: #d4ebff;}#sk-container-id-1 div.sk-label input.sk-toggleable__control:checked~label.sk-toggleable__label {background-color: #d4ebff;}#sk-container-id-1 input.sk-hidden--visually {border: 0;clip: rect(1px 1px 1px 1px);clip: rect(1px, 1px, 1px, 1px);height: 1px;margin: -1px;overflow: hidden;padding: 0;position: absolute;width: 1px;}#sk-container-id-1 div.sk-estimator {font-family: monospace;background-color: #f0f8ff;border: 1px dotted black;border-radius: 0.25em;box-sizing: border-box;margin-bottom: 0.5em;}#sk-container-id-1 div.sk-estimator:hover {background-color: #d4ebff;}#sk-container-id-1 div.sk-parallel-item::after {content: \"\";width: 100%;border-bottom: 1px solid gray;flex-grow: 1;}#sk-container-id-1 div.sk-label:hover label.sk-toggleable__label {background-color: #d4ebff;}#sk-container-id-1 div.sk-serial::before {content: \"\";position: absolute;border-left: 1px solid gray;box-sizing: border-box;top: 0;bottom: 0;left: 50%;z-index: 0;}#sk-container-id-1 div.sk-serial {display: flex;flex-direction: column;align-items: center;background-color: white;padding-right: 0.2em;padding-left: 0.2em;position: relative;}#sk-container-id-1 div.sk-item {position: relative;z-index: 1;}#sk-container-id-1 div.sk-parallel {display: flex;align-items: stretch;justify-content: center;background-color: white;position: relative;}#sk-container-id-1 div.sk-item::before, #sk-container-id-1 div.sk-parallel-item::before {content: \"\";position: absolute;border-left: 1px solid gray;box-sizing: border-box;top: 0;bottom: 0;left: 50%;z-index: -1;}#sk-container-id-1 div.sk-parallel-item {display: flex;flex-direction: column;z-index: 1;position: relative;background-color: white;}#sk-container-id-1 div.sk-parallel-item:first-child::after {align-self: flex-end;width: 50%;}#sk-container-id-1 div.sk-parallel-item:last-child::after {align-self: flex-start;width: 50%;}#sk-container-id-1 div.sk-parallel-item:only-child::after {width: 0;}#sk-container-id-1 div.sk-dashed-wrapped {border: 1px dashed gray;margin: 0 0.4em 0.5em 0.4em;box-sizing: border-box;padding-bottom: 0.4em;background-color: white;}#sk-container-id-1 div.sk-label label {font-family: monospace;font-weight: bold;display: inline-block;line-height: 1.2em;}#sk-container-id-1 div.sk-label-container {text-align: center;}#sk-container-id-1 div.sk-container {/* jupyter's `normalize.less` sets `[hidden] { display: none; }` but bootstrap.min.css set `[hidden] { display: none !important; }` so we also need the `!important` here to be able to override the default hidden behavior on the sphinx rendered scikit-learn.org. See: https://github.com/scikit-learn/scikit-learn/issues/21755 */display: inline-block !important;position: relative;}#sk-container-id-1 div.sk-text-repr-fallback {display: none;}</style><div id=\"sk-container-id-1\" class=\"sk-top-container\"><div class=\"sk-text-repr-fallback\"><pre>Pipeline(steps=[(&#x27;vectorizer_tri_grams&#x27;, TfidfVectorizer()),\n",
       "                (&#x27;naive_bayes&#x27;, MultinomialNB())])</pre><b>In a Jupyter environment, please rerun this cell to show the HTML representation or trust the notebook. <br />On GitHub, the HTML representation is unable to render, please try loading this page with nbviewer.org.</b></div><div class=\"sk-container\" hidden><div class=\"sk-item sk-dashed-wrapped\"><div class=\"sk-label-container\"><div class=\"sk-label sk-toggleable\"><input class=\"sk-toggleable__control sk-hidden--visually\" id=\"sk-estimator-id-1\" type=\"checkbox\" ><label for=\"sk-estimator-id-1\" class=\"sk-toggleable__label sk-toggleable__label-arrow\">Pipeline</label><div class=\"sk-toggleable__content\"><pre>Pipeline(steps=[(&#x27;vectorizer_tri_grams&#x27;, TfidfVectorizer()),\n",
       "                (&#x27;naive_bayes&#x27;, MultinomialNB())])</pre></div></div></div><div class=\"sk-serial\"><div class=\"sk-item\"><div class=\"sk-estimator sk-toggleable\"><input class=\"sk-toggleable__control sk-hidden--visually\" id=\"sk-estimator-id-2\" type=\"checkbox\" ><label for=\"sk-estimator-id-2\" class=\"sk-toggleable__label sk-toggleable__label-arrow\">TfidfVectorizer</label><div class=\"sk-toggleable__content\"><pre>TfidfVectorizer()</pre></div></div></div><div class=\"sk-item\"><div class=\"sk-estimator sk-toggleable\"><input class=\"sk-toggleable__control sk-hidden--visually\" id=\"sk-estimator-id-3\" type=\"checkbox\" ><label for=\"sk-estimator-id-3\" class=\"sk-toggleable__label sk-toggleable__label-arrow\">MultinomialNB</label><div class=\"sk-toggleable__content\"><pre>MultinomialNB()</pre></div></div></div></div></div></div></div>"
      ],
      "text/plain": [
       "Pipeline(steps=[('vectorizer_tri_grams', TfidfVectorizer()),\n",
       "                ('naive_bayes', MultinomialNB())])"
      ]
     },
     "execution_count": 17,
     "metadata": {},
     "output_type": "execute_result"
    }
   ],
   "source": [
    "clf.fit(x_train, y_train)"
   ]
  },
  {
   "cell_type": "code",
   "execution_count": 18,
   "metadata": {},
   "outputs": [],
   "source": [
    "y_pred = clf.predict(x_test)"
   ]
  },
  {
   "cell_type": "code",
   "execution_count": 19,
   "metadata": {},
   "outputs": [
    {
     "name": "stdout",
     "output_type": "stream",
     "text": [
      "0.7312837837837838\n",
      "              precision    recall  f1-score   support\n",
      "\n",
      "           0       0.95      0.46      0.62      2575\n",
      "           1       0.65      0.90      0.76      4472\n",
      "           2       0.84      0.63      0.72      3622\n",
      "           3       0.71      0.81      0.76      4131\n",
      "\n",
      "    accuracy                           0.73     14800\n",
      "   macro avg       0.79      0.70      0.71     14800\n",
      "weighted avg       0.77      0.73      0.72     14800\n",
      "\n"
     ]
    }
   ],
   "source": [
    "print(accuracy_score(y_test, y_pred))\n",
    "print(classification_report(y_test, y_pred))"
   ]
  },
  {
   "cell_type": "code",
   "execution_count": 20,
   "metadata": {},
   "outputs": [],
   "source": [
    "clf = Pipeline([\n",
    "    ('vectorizer_tri_grams', TfidfVectorizer()),\n",
    "    ('naive_bayes', (RandomForestClassifier()))         \n",
    "])"
   ]
  },
  {
   "cell_type": "code",
   "execution_count": 21,
   "metadata": {},
   "outputs": [
    {
     "data": {
      "text/html": [
       "<style>#sk-container-id-2 {color: black;}#sk-container-id-2 pre{padding: 0;}#sk-container-id-2 div.sk-toggleable {background-color: white;}#sk-container-id-2 label.sk-toggleable__label {cursor: pointer;display: block;width: 100%;margin-bottom: 0;padding: 0.3em;box-sizing: border-box;text-align: center;}#sk-container-id-2 label.sk-toggleable__label-arrow:before {content: \"▸\";float: left;margin-right: 0.25em;color: #696969;}#sk-container-id-2 label.sk-toggleable__label-arrow:hover:before {color: black;}#sk-container-id-2 div.sk-estimator:hover label.sk-toggleable__label-arrow:before {color: black;}#sk-container-id-2 div.sk-toggleable__content {max-height: 0;max-width: 0;overflow: hidden;text-align: left;background-color: #f0f8ff;}#sk-container-id-2 div.sk-toggleable__content pre {margin: 0.2em;color: black;border-radius: 0.25em;background-color: #f0f8ff;}#sk-container-id-2 input.sk-toggleable__control:checked~div.sk-toggleable__content {max-height: 200px;max-width: 100%;overflow: auto;}#sk-container-id-2 input.sk-toggleable__control:checked~label.sk-toggleable__label-arrow:before {content: \"▾\";}#sk-container-id-2 div.sk-estimator input.sk-toggleable__control:checked~label.sk-toggleable__label {background-color: #d4ebff;}#sk-container-id-2 div.sk-label input.sk-toggleable__control:checked~label.sk-toggleable__label {background-color: #d4ebff;}#sk-container-id-2 input.sk-hidden--visually {border: 0;clip: rect(1px 1px 1px 1px);clip: rect(1px, 1px, 1px, 1px);height: 1px;margin: -1px;overflow: hidden;padding: 0;position: absolute;width: 1px;}#sk-container-id-2 div.sk-estimator {font-family: monospace;background-color: #f0f8ff;border: 1px dotted black;border-radius: 0.25em;box-sizing: border-box;margin-bottom: 0.5em;}#sk-container-id-2 div.sk-estimator:hover {background-color: #d4ebff;}#sk-container-id-2 div.sk-parallel-item::after {content: \"\";width: 100%;border-bottom: 1px solid gray;flex-grow: 1;}#sk-container-id-2 div.sk-label:hover label.sk-toggleable__label {background-color: #d4ebff;}#sk-container-id-2 div.sk-serial::before {content: \"\";position: absolute;border-left: 1px solid gray;box-sizing: border-box;top: 0;bottom: 0;left: 50%;z-index: 0;}#sk-container-id-2 div.sk-serial {display: flex;flex-direction: column;align-items: center;background-color: white;padding-right: 0.2em;padding-left: 0.2em;position: relative;}#sk-container-id-2 div.sk-item {position: relative;z-index: 1;}#sk-container-id-2 div.sk-parallel {display: flex;align-items: stretch;justify-content: center;background-color: white;position: relative;}#sk-container-id-2 div.sk-item::before, #sk-container-id-2 div.sk-parallel-item::before {content: \"\";position: absolute;border-left: 1px solid gray;box-sizing: border-box;top: 0;bottom: 0;left: 50%;z-index: -1;}#sk-container-id-2 div.sk-parallel-item {display: flex;flex-direction: column;z-index: 1;position: relative;background-color: white;}#sk-container-id-2 div.sk-parallel-item:first-child::after {align-self: flex-end;width: 50%;}#sk-container-id-2 div.sk-parallel-item:last-child::after {align-self: flex-start;width: 50%;}#sk-container-id-2 div.sk-parallel-item:only-child::after {width: 0;}#sk-container-id-2 div.sk-dashed-wrapped {border: 1px dashed gray;margin: 0 0.4em 0.5em 0.4em;box-sizing: border-box;padding-bottom: 0.4em;background-color: white;}#sk-container-id-2 div.sk-label label {font-family: monospace;font-weight: bold;display: inline-block;line-height: 1.2em;}#sk-container-id-2 div.sk-label-container {text-align: center;}#sk-container-id-2 div.sk-container {/* jupyter's `normalize.less` sets `[hidden] { display: none; }` but bootstrap.min.css set `[hidden] { display: none !important; }` so we also need the `!important` here to be able to override the default hidden behavior on the sphinx rendered scikit-learn.org. See: https://github.com/scikit-learn/scikit-learn/issues/21755 */display: inline-block !important;position: relative;}#sk-container-id-2 div.sk-text-repr-fallback {display: none;}</style><div id=\"sk-container-id-2\" class=\"sk-top-container\"><div class=\"sk-text-repr-fallback\"><pre>Pipeline(steps=[(&#x27;vectorizer_tri_grams&#x27;, TfidfVectorizer()),\n",
       "                (&#x27;naive_bayes&#x27;, RandomForestClassifier())])</pre><b>In a Jupyter environment, please rerun this cell to show the HTML representation or trust the notebook. <br />On GitHub, the HTML representation is unable to render, please try loading this page with nbviewer.org.</b></div><div class=\"sk-container\" hidden><div class=\"sk-item sk-dashed-wrapped\"><div class=\"sk-label-container\"><div class=\"sk-label sk-toggleable\"><input class=\"sk-toggleable__control sk-hidden--visually\" id=\"sk-estimator-id-4\" type=\"checkbox\" ><label for=\"sk-estimator-id-4\" class=\"sk-toggleable__label sk-toggleable__label-arrow\">Pipeline</label><div class=\"sk-toggleable__content\"><pre>Pipeline(steps=[(&#x27;vectorizer_tri_grams&#x27;, TfidfVectorizer()),\n",
       "                (&#x27;naive_bayes&#x27;, RandomForestClassifier())])</pre></div></div></div><div class=\"sk-serial\"><div class=\"sk-item\"><div class=\"sk-estimator sk-toggleable\"><input class=\"sk-toggleable__control sk-hidden--visually\" id=\"sk-estimator-id-5\" type=\"checkbox\" ><label for=\"sk-estimator-id-5\" class=\"sk-toggleable__label sk-toggleable__label-arrow\">TfidfVectorizer</label><div class=\"sk-toggleable__content\"><pre>TfidfVectorizer()</pre></div></div></div><div class=\"sk-item\"><div class=\"sk-estimator sk-toggleable\"><input class=\"sk-toggleable__control sk-hidden--visually\" id=\"sk-estimator-id-6\" type=\"checkbox\" ><label for=\"sk-estimator-id-6\" class=\"sk-toggleable__label sk-toggleable__label-arrow\">RandomForestClassifier</label><div class=\"sk-toggleable__content\"><pre>RandomForestClassifier()</pre></div></div></div></div></div></div></div>"
      ],
      "text/plain": [
       "Pipeline(steps=[('vectorizer_tri_grams', TfidfVectorizer()),\n",
       "                ('naive_bayes', RandomForestClassifier())])"
      ]
     },
     "execution_count": 21,
     "metadata": {},
     "output_type": "execute_result"
    }
   ],
   "source": [
    "clf.fit(x_train, y_train)"
   ]
  },
  {
   "cell_type": "code",
   "execution_count": 22,
   "metadata": {},
   "outputs": [],
   "source": [
    "y_pred = clf.predict(x_test)"
   ]
  },
  {
   "cell_type": "code",
   "execution_count": 23,
   "metadata": {},
   "outputs": [
    {
     "name": "stdout",
     "output_type": "stream",
     "text": [
      "0.9131756756756757\n",
      "              precision    recall  f1-score   support\n",
      "\n",
      "           0       0.97      0.86      0.91      2575\n",
      "           1       0.93      0.93      0.93      4472\n",
      "           2       0.94      0.89      0.92      3622\n",
      "           3       0.85      0.94      0.90      4131\n",
      "\n",
      "    accuracy                           0.91     14800\n",
      "   macro avg       0.92      0.91      0.91     14800\n",
      "weighted avg       0.92      0.91      0.91     14800\n",
      "\n"
     ]
    }
   ],
   "source": [
    "print(accuracy_score(y_test, y_pred))\n",
    "print(classification_report(y_test, y_pred))"
   ]
  },
  {
   "cell_type": "code",
   "execution_count": 24,
   "metadata": {},
   "outputs": [
    {
     "name": "stdout",
     "output_type": "stream",
     "text": [
      "Collecting xgboost\n",
      "  Downloading xgboost-2.1.1-py3-none-win_amd64.whl.metadata (2.1 kB)\n",
      "Requirement already satisfied: numpy in c:\\users\\asus\\appdata\\local\\programs\\python\\python311\\lib\\site-packages (from xgboost) (1.26.2)\n",
      "Requirement already satisfied: scipy in c:\\users\\asus\\appdata\\local\\programs\\python\\python311\\lib\\site-packages (from xgboost) (1.11.4)\n",
      "Downloading xgboost-2.1.1-py3-none-win_amd64.whl (124.9 MB)\n",
      "   ---------------------------------------- 0.0/124.9 MB ? eta -:--:--\n",
      "   ---------------------------------------- 0.2/124.9 MB 5.0 MB/s eta 0:00:26\n",
      "   ---------------------------------------- 0.7/124.9 MB 7.5 MB/s eta 0:00:17\n",
      "   ---------------------------------------- 1.3/124.9 MB 8.9 MB/s eta 0:00:14\n",
      "    --------------------------------------- 1.7/124.9 MB 10.0 MB/s eta 0:00:13\n",
      "    --------------------------------------- 2.1/124.9 MB 10.2 MB/s eta 0:00:13\n",
      "    --------------------------------------- 2.6/124.9 MB 9.7 MB/s eta 0:00:13\n",
      "    --------------------------------------- 2.9/124.9 MB 9.6 MB/s eta 0:00:13\n",
      "    --------------------------------------- 3.0/124.9 MB 9.0 MB/s eta 0:00:14\n",
      "   - -------------------------------------- 3.6/124.9 MB 9.0 MB/s eta 0:00:14\n",
      "   - -------------------------------------- 3.8/124.9 MB 8.6 MB/s eta 0:00:15\n",
      "   - -------------------------------------- 4.4/124.9 MB 9.0 MB/s eta 0:00:14\n",
      "   - -------------------------------------- 4.7/124.9 MB 8.8 MB/s eta 0:00:14\n",
      "   - -------------------------------------- 5.0/124.9 MB 8.4 MB/s eta 0:00:15\n",
      "   - -------------------------------------- 5.4/124.9 MB 8.7 MB/s eta 0:00:14\n",
      "   - -------------------------------------- 5.8/124.9 MB 8.8 MB/s eta 0:00:14\n",
      "   - -------------------------------------- 6.2/124.9 MB 8.6 MB/s eta 0:00:14\n",
      "   -- ------------------------------------- 6.5/124.9 MB 8.3 MB/s eta 0:00:15\n",
      "   -- ------------------------------------- 6.8/124.9 MB 8.3 MB/s eta 0:00:15\n",
      "   -- ------------------------------------- 7.0/124.9 MB 8.2 MB/s eta 0:00:15\n",
      "   -- ------------------------------------- 7.3/124.9 MB 8.2 MB/s eta 0:00:15\n",
      "   -- ------------------------------------- 7.6/124.9 MB 8.0 MB/s eta 0:00:15\n",
      "   -- ------------------------------------- 7.9/124.9 MB 8.1 MB/s eta 0:00:15\n",
      "   -- ------------------------------------- 8.2/124.9 MB 7.9 MB/s eta 0:00:15\n",
      "   -- ------------------------------------- 8.5/124.9 MB 7.9 MB/s eta 0:00:15\n",
      "   -- ------------------------------------- 8.8/124.9 MB 7.9 MB/s eta 0:00:15\n",
      "   -- ------------------------------------- 9.1/124.9 MB 7.8 MB/s eta 0:00:15\n",
      "   --- ------------------------------------ 9.5/124.9 MB 7.8 MB/s eta 0:00:15\n",
      "   --- ------------------------------------ 9.8/124.9 MB 7.7 MB/s eta 0:00:15\n",
      "   --- ------------------------------------ 10.1/124.9 MB 7.7 MB/s eta 0:00:15\n",
      "   --- ------------------------------------ 10.4/124.9 MB 7.8 MB/s eta 0:00:15\n",
      "   --- ------------------------------------ 10.7/124.9 MB 7.8 MB/s eta 0:00:15\n",
      "   --- ------------------------------------ 11.1/124.9 MB 7.7 MB/s eta 0:00:15\n",
      "   --- ------------------------------------ 11.5/124.9 MB 7.6 MB/s eta 0:00:15\n",
      "   --- ------------------------------------ 11.8/124.9 MB 7.4 MB/s eta 0:00:16\n",
      "   --- ------------------------------------ 12.1/124.9 MB 7.3 MB/s eta 0:00:16\n",
      "   ---- ----------------------------------- 12.5/124.9 MB 7.5 MB/s eta 0:00:15\n",
      "   ---- ----------------------------------- 12.8/124.9 MB 7.3 MB/s eta 0:00:16\n",
      "   ---- ----------------------------------- 13.1/124.9 MB 7.3 MB/s eta 0:00:16\n",
      "   ---- ----------------------------------- 13.4/124.9 MB 7.4 MB/s eta 0:00:16\n",
      "   ---- ----------------------------------- 13.7/124.9 MB 7.0 MB/s eta 0:00:16\n",
      "   ---- ----------------------------------- 13.9/124.9 MB 7.0 MB/s eta 0:00:16\n",
      "   ---- ----------------------------------- 14.2/124.9 MB 7.1 MB/s eta 0:00:16\n",
      "   ---- ----------------------------------- 14.5/124.9 MB 7.0 MB/s eta 0:00:16\n",
      "   ---- ----------------------------------- 14.7/124.9 MB 7.0 MB/s eta 0:00:16\n",
      "   ---- ----------------------------------- 15.0/124.9 MB 7.0 MB/s eta 0:00:16\n",
      "   ---- ----------------------------------- 15.3/124.9 MB 6.8 MB/s eta 0:00:17\n",
      "   ---- ----------------------------------- 15.6/124.9 MB 6.7 MB/s eta 0:00:17\n",
      "   ----- ---------------------------------- 15.9/124.9 MB 6.7 MB/s eta 0:00:17\n",
      "   ----- ---------------------------------- 16.2/124.9 MB 6.6 MB/s eta 0:00:17\n",
      "   ----- ---------------------------------- 16.5/124.9 MB 6.6 MB/s eta 0:00:17\n",
      "   ----- ---------------------------------- 16.8/124.9 MB 6.6 MB/s eta 0:00:17\n",
      "   ----- ---------------------------------- 17.1/124.9 MB 6.7 MB/s eta 0:00:16\n",
      "   ----- ---------------------------------- 17.5/124.9 MB 6.7 MB/s eta 0:00:17\n",
      "   ----- ---------------------------------- 17.8/124.9 MB 6.7 MB/s eta 0:00:17\n",
      "   ----- ---------------------------------- 18.1/124.9 MB 6.7 MB/s eta 0:00:17\n",
      "   ----- ---------------------------------- 18.3/124.9 MB 6.7 MB/s eta 0:00:16\n",
      "   ----- ---------------------------------- 18.7/124.9 MB 6.7 MB/s eta 0:00:16\n",
      "   ------ --------------------------------- 18.8/124.9 MB 6.7 MB/s eta 0:00:16\n",
      "   ------ --------------------------------- 19.1/124.9 MB 6.6 MB/s eta 0:00:16\n",
      "   ------ --------------------------------- 19.4/124.9 MB 6.5 MB/s eta 0:00:17\n",
      "   ------ --------------------------------- 19.6/124.9 MB 6.5 MB/s eta 0:00:17\n",
      "   ------ --------------------------------- 19.9/124.9 MB 6.5 MB/s eta 0:00:17\n",
      "   ------ --------------------------------- 20.1/124.9 MB 6.4 MB/s eta 0:00:17\n",
      "   ------ --------------------------------- 20.4/124.9 MB 6.4 MB/s eta 0:00:17\n",
      "   ------ --------------------------------- 20.6/124.9 MB 6.4 MB/s eta 0:00:17\n",
      "   ------ --------------------------------- 20.9/124.9 MB 6.3 MB/s eta 0:00:17\n",
      "   ------ --------------------------------- 21.2/124.9 MB 6.2 MB/s eta 0:00:17\n",
      "   ------ --------------------------------- 21.5/124.9 MB 6.2 MB/s eta 0:00:17\n",
      "   ------ --------------------------------- 21.8/124.9 MB 6.2 MB/s eta 0:00:17\n",
      "   ------- -------------------------------- 22.1/124.9 MB 6.2 MB/s eta 0:00:17\n",
      "   ------- -------------------------------- 22.3/124.9 MB 6.1 MB/s eta 0:00:17\n",
      "   ------- -------------------------------- 22.6/124.9 MB 6.1 MB/s eta 0:00:17\n",
      "   ------- -------------------------------- 22.9/124.9 MB 6.1 MB/s eta 0:00:17\n",
      "   ------- -------------------------------- 23.1/124.9 MB 6.1 MB/s eta 0:00:17\n",
      "   ------- -------------------------------- 23.4/124.9 MB 6.1 MB/s eta 0:00:17\n",
      "   ------- -------------------------------- 23.7/124.9 MB 6.1 MB/s eta 0:00:17\n",
      "   ------- -------------------------------- 24.0/124.9 MB 6.1 MB/s eta 0:00:17\n",
      "   ------- -------------------------------- 24.3/124.9 MB 6.1 MB/s eta 0:00:17\n",
      "   ------- -------------------------------- 24.5/124.9 MB 6.1 MB/s eta 0:00:17\n",
      "   ------- -------------------------------- 24.9/124.9 MB 6.2 MB/s eta 0:00:17\n",
      "   -------- ------------------------------- 25.1/124.9 MB 6.1 MB/s eta 0:00:17\n",
      "   -------- ------------------------------- 25.4/124.9 MB 6.2 MB/s eta 0:00:17\n",
      "   -------- ------------------------------- 25.7/124.9 MB 6.2 MB/s eta 0:00:17\n",
      "   -------- ------------------------------- 26.0/124.9 MB 6.2 MB/s eta 0:00:17\n",
      "   -------- ------------------------------- 26.3/124.9 MB 6.2 MB/s eta 0:00:16\n",
      "   -------- ------------------------------- 26.6/124.9 MB 6.2 MB/s eta 0:00:16\n",
      "   -------- ------------------------------- 27.0/124.9 MB 6.2 MB/s eta 0:00:16\n",
      "   -------- ------------------------------- 27.3/124.9 MB 6.2 MB/s eta 0:00:16\n",
      "   -------- ------------------------------- 27.6/124.9 MB 6.2 MB/s eta 0:00:16\n",
      "   -------- ------------------------------- 27.9/124.9 MB 6.2 MB/s eta 0:00:16\n",
      "   --------- ------------------------------ 28.3/124.9 MB 6.2 MB/s eta 0:00:16\n",
      "   --------- ------------------------------ 28.5/124.9 MB 6.2 MB/s eta 0:00:16\n",
      "   --------- ------------------------------ 28.8/124.9 MB 6.2 MB/s eta 0:00:16\n",
      "   --------- ------------------------------ 29.1/124.9 MB 6.3 MB/s eta 0:00:16\n",
      "   --------- ------------------------------ 29.4/124.9 MB 6.3 MB/s eta 0:00:16\n",
      "   --------- ------------------------------ 29.7/124.9 MB 6.4 MB/s eta 0:00:15\n",
      "   --------- ------------------------------ 30.1/124.9 MB 6.4 MB/s eta 0:00:15\n",
      "   --------- ------------------------------ 30.4/124.9 MB 6.4 MB/s eta 0:00:15\n",
      "   --------- ------------------------------ 30.6/124.9 MB 6.5 MB/s eta 0:00:15\n",
      "   --------- ------------------------------ 31.0/124.9 MB 6.6 MB/s eta 0:00:15\n",
      "   ---------- ----------------------------- 31.3/124.9 MB 6.6 MB/s eta 0:00:15\n",
      "   ---------- ----------------------------- 31.6/124.9 MB 6.6 MB/s eta 0:00:15\n",
      "   ---------- ----------------------------- 31.8/124.9 MB 6.7 MB/s eta 0:00:14\n",
      "   ---------- ----------------------------- 32.2/124.9 MB 6.7 MB/s eta 0:00:14\n",
      "   ---------- ----------------------------- 32.6/124.9 MB 6.8 MB/s eta 0:00:14\n",
      "   ---------- ----------------------------- 32.7/124.9 MB 6.7 MB/s eta 0:00:14\n",
      "   ---------- ----------------------------- 33.2/124.9 MB 6.7 MB/s eta 0:00:14\n",
      "   ---------- ----------------------------- 33.5/124.9 MB 6.9 MB/s eta 0:00:14\n",
      "   ---------- ----------------------------- 33.8/124.9 MB 6.8 MB/s eta 0:00:14\n",
      "   ---------- ----------------------------- 34.2/124.9 MB 6.8 MB/s eta 0:00:14\n",
      "   ----------- ---------------------------- 34.5/124.9 MB 7.0 MB/s eta 0:00:13\n",
      "   ----------- ---------------------------- 34.9/124.9 MB 7.0 MB/s eta 0:00:13\n",
      "   ----------- ---------------------------- 35.2/124.9 MB 7.0 MB/s eta 0:00:13\n",
      "   ----------- ---------------------------- 35.6/124.9 MB 7.0 MB/s eta 0:00:13\n",
      "   ----------- ---------------------------- 36.0/124.9 MB 7.1 MB/s eta 0:00:13\n",
      "   ----------- ---------------------------- 36.2/124.9 MB 7.1 MB/s eta 0:00:13\n",
      "   ----------- ---------------------------- 36.6/124.9 MB 7.2 MB/s eta 0:00:13\n",
      "   ----------- ---------------------------- 36.7/124.9 MB 7.1 MB/s eta 0:00:13\n",
      "   ----------- ---------------------------- 37.2/124.9 MB 7.1 MB/s eta 0:00:13\n",
      "   ------------ --------------------------- 37.6/124.9 MB 7.2 MB/s eta 0:00:13\n",
      "   ------------ --------------------------- 38.0/124.9 MB 7.3 MB/s eta 0:00:12\n",
      "   ------------ --------------------------- 38.3/124.9 MB 7.3 MB/s eta 0:00:12\n",
      "   ------------ --------------------------- 38.7/124.9 MB 7.3 MB/s eta 0:00:12\n",
      "   ------------ --------------------------- 39.0/124.9 MB 7.2 MB/s eta 0:00:12\n",
      "   ------------ --------------------------- 39.4/124.9 MB 7.3 MB/s eta 0:00:12\n",
      "   ------------ --------------------------- 39.8/124.9 MB 7.4 MB/s eta 0:00:12\n",
      "   ------------ --------------------------- 40.2/124.9 MB 7.4 MB/s eta 0:00:12\n",
      "   ------------- -------------------------- 40.6/124.9 MB 7.4 MB/s eta 0:00:12\n",
      "   ------------- -------------------------- 41.0/124.9 MB 7.4 MB/s eta 0:00:12\n",
      "   ------------- -------------------------- 41.4/124.9 MB 7.5 MB/s eta 0:00:12\n",
      "   ------------- -------------------------- 41.8/124.9 MB 7.7 MB/s eta 0:00:11\n",
      "   ------------- -------------------------- 42.2/124.9 MB 7.7 MB/s eta 0:00:11\n",
      "   ------------- -------------------------- 42.5/124.9 MB 7.8 MB/s eta 0:00:11\n",
      "   ------------- -------------------------- 42.8/124.9 MB 7.8 MB/s eta 0:00:11\n",
      "   ------------- -------------------------- 43.3/124.9 MB 8.0 MB/s eta 0:00:11\n",
      "   ------------- -------------------------- 43.6/124.9 MB 7.9 MB/s eta 0:00:11\n",
      "   -------------- ------------------------- 44.1/124.9 MB 8.2 MB/s eta 0:00:10\n",
      "   -------------- ------------------------- 44.4/124.9 MB 8.1 MB/s eta 0:00:10\n",
      "   -------------- ------------------------- 44.8/124.9 MB 8.1 MB/s eta 0:00:10\n",
      "   -------------- ------------------------- 45.2/124.9 MB 8.1 MB/s eta 0:00:10\n",
      "   -------------- ------------------------- 45.6/124.9 MB 8.1 MB/s eta 0:00:10\n",
      "   -------------- ------------------------- 45.9/124.9 MB 8.1 MB/s eta 0:00:10\n",
      "   -------------- ------------------------- 46.3/124.9 MB 8.3 MB/s eta 0:00:10\n",
      "   -------------- ------------------------- 46.8/124.9 MB 8.2 MB/s eta 0:00:10\n",
      "   --------------- ------------------------ 47.1/124.9 MB 8.4 MB/s eta 0:00:10\n",
      "   --------------- ------------------------ 47.6/124.9 MB 8.4 MB/s eta 0:00:10\n",
      "   --------------- ------------------------ 47.9/124.9 MB 8.4 MB/s eta 0:00:10\n",
      "   --------------- ------------------------ 48.3/124.9 MB 8.4 MB/s eta 0:00:10\n",
      "   --------------- ------------------------ 48.7/124.9 MB 8.4 MB/s eta 0:00:10\n",
      "   --------------- ------------------------ 49.0/124.9 MB 8.5 MB/s eta 0:00:09\n",
      "   --------------- ------------------------ 49.4/124.9 MB 8.5 MB/s eta 0:00:09\n",
      "   --------------- ------------------------ 49.7/124.9 MB 8.5 MB/s eta 0:00:09\n",
      "   ---------------- ----------------------- 50.1/124.9 MB 8.4 MB/s eta 0:00:09\n",
      "   ---------------- ----------------------- 50.5/124.9 MB 8.4 MB/s eta 0:00:09\n",
      "   ---------------- ----------------------- 50.8/124.9 MB 8.4 MB/s eta 0:00:09\n",
      "   ---------------- ----------------------- 51.1/124.9 MB 8.3 MB/s eta 0:00:09\n",
      "   ---------------- ----------------------- 51.4/124.9 MB 8.4 MB/s eta 0:00:09\n",
      "   ---------------- ----------------------- 51.7/124.9 MB 8.3 MB/s eta 0:00:09\n",
      "   ---------------- ----------------------- 51.9/124.9 MB 8.2 MB/s eta 0:00:09\n",
      "   ---------------- ----------------------- 52.2/124.9 MB 8.0 MB/s eta 0:00:10\n",
      "   ---------------- ----------------------- 52.4/124.9 MB 8.0 MB/s eta 0:00:10\n",
      "   ---------------- ----------------------- 52.6/124.9 MB 7.8 MB/s eta 0:00:10\n",
      "   ---------------- ----------------------- 52.8/124.9 MB 7.8 MB/s eta 0:00:10\n",
      "   ---------------- ----------------------- 53.1/124.9 MB 7.6 MB/s eta 0:00:10\n",
      "   ----------------- ---------------------- 53.2/124.9 MB 7.5 MB/s eta 0:00:10\n",
      "   ----------------- ---------------------- 53.4/124.9 MB 7.4 MB/s eta 0:00:10\n",
      "   ----------------- ---------------------- 53.6/124.9 MB 7.3 MB/s eta 0:00:10\n",
      "   ----------------- ---------------------- 53.7/124.9 MB 7.1 MB/s eta 0:00:10\n",
      "   ----------------- ---------------------- 53.9/124.9 MB 7.0 MB/s eta 0:00:11\n",
      "   ----------------- ---------------------- 54.0/124.9 MB 6.9 MB/s eta 0:00:11\n",
      "   ----------------- ---------------------- 54.2/124.9 MB 6.7 MB/s eta 0:00:11\n",
      "   ----------------- ---------------------- 54.3/124.9 MB 6.6 MB/s eta 0:00:11\n",
      "   ----------------- ---------------------- 54.5/124.9 MB 6.5 MB/s eta 0:00:11\n",
      "   ----------------- ---------------------- 54.6/124.9 MB 6.4 MB/s eta 0:00:11\n",
      "   ----------------- ---------------------- 54.8/124.9 MB 6.3 MB/s eta 0:00:12\n",
      "   ----------------- ---------------------- 55.0/124.9 MB 6.2 MB/s eta 0:00:12\n",
      "   ----------------- ---------------------- 55.1/124.9 MB 6.2 MB/s eta 0:00:12\n",
      "   ----------------- ---------------------- 55.3/124.9 MB 6.1 MB/s eta 0:00:12\n",
      "   ----------------- ---------------------- 55.5/124.9 MB 6.0 MB/s eta 0:00:12\n",
      "   ----------------- ---------------------- 55.6/124.9 MB 5.9 MB/s eta 0:00:12\n",
      "   ----------------- ---------------------- 55.8/124.9 MB 5.8 MB/s eta 0:00:12\n",
      "   ----------------- ---------------------- 56.0/124.9 MB 5.7 MB/s eta 0:00:13\n",
      "   ----------------- ---------------------- 56.1/124.9 MB 5.7 MB/s eta 0:00:13\n",
      "   ------------------ --------------------- 56.3/124.9 MB 5.7 MB/s eta 0:00:13\n",
      "   ------------------ --------------------- 56.6/124.9 MB 5.6 MB/s eta 0:00:13\n",
      "   ------------------ --------------------- 56.8/124.9 MB 5.5 MB/s eta 0:00:13\n",
      "   ------------------ --------------------- 56.9/124.9 MB 5.4 MB/s eta 0:00:13\n",
      "   ------------------ --------------------- 57.2/124.9 MB 5.4 MB/s eta 0:00:13\n",
      "   ------------------ --------------------- 57.4/124.9 MB 5.3 MB/s eta 0:00:13\n",
      "   ------------------ --------------------- 57.6/124.9 MB 5.3 MB/s eta 0:00:13\n",
      "   ------------------ --------------------- 57.8/124.9 MB 5.2 MB/s eta 0:00:13\n",
      "   ------------------ --------------------- 58.0/124.9 MB 5.2 MB/s eta 0:00:13\n",
      "   ------------------ --------------------- 58.2/124.9 MB 5.1 MB/s eta 0:00:14\n",
      "   ------------------ --------------------- 58.5/124.9 MB 5.1 MB/s eta 0:00:14\n",
      "   ------------------ --------------------- 58.7/124.9 MB 5.1 MB/s eta 0:00:14\n",
      "   ------------------ --------------------- 58.9/124.9 MB 5.0 MB/s eta 0:00:14\n",
      "   ------------------ --------------------- 59.1/124.9 MB 5.0 MB/s eta 0:00:14\n",
      "   ------------------- -------------------- 59.4/124.9 MB 5.0 MB/s eta 0:00:14\n",
      "   ------------------- -------------------- 59.6/124.9 MB 5.0 MB/s eta 0:00:14\n",
      "   ------------------- -------------------- 59.9/124.9 MB 4.9 MB/s eta 0:00:14\n",
      "   ------------------- -------------------- 60.2/124.9 MB 4.9 MB/s eta 0:00:14\n",
      "   ------------------- -------------------- 60.5/124.9 MB 4.9 MB/s eta 0:00:14\n",
      "   ------------------- -------------------- 60.8/124.9 MB 4.8 MB/s eta 0:00:14\n",
      "   ------------------- -------------------- 61.0/124.9 MB 4.8 MB/s eta 0:00:14\n",
      "   ------------------- -------------------- 61.3/124.9 MB 4.8 MB/s eta 0:00:14\n",
      "   ------------------- -------------------- 61.5/124.9 MB 4.8 MB/s eta 0:00:14\n",
      "   ------------------- -------------------- 61.8/124.9 MB 4.8 MB/s eta 0:00:14\n",
      "   ------------------- -------------------- 62.2/124.9 MB 4.7 MB/s eta 0:00:14\n",
      "   -------------------- ------------------- 62.5/124.9 MB 4.8 MB/s eta 0:00:14\n",
      "   -------------------- ------------------- 62.8/124.9 MB 4.9 MB/s eta 0:00:13\n",
      "   -------------------- ------------------- 63.0/124.9 MB 4.9 MB/s eta 0:00:13\n",
      "   -------------------- ------------------- 63.3/124.9 MB 4.9 MB/s eta 0:00:13\n",
      "   -------------------- ------------------- 63.6/124.9 MB 5.0 MB/s eta 0:00:13\n",
      "   -------------------- ------------------- 63.9/124.9 MB 5.0 MB/s eta 0:00:13\n",
      "   -------------------- ------------------- 64.1/124.9 MB 5.1 MB/s eta 0:00:12\n",
      "   -------------------- ------------------- 64.4/124.9 MB 5.2 MB/s eta 0:00:12\n",
      "   -------------------- ------------------- 64.7/124.9 MB 5.3 MB/s eta 0:00:12\n",
      "   -------------------- ------------------- 65.0/124.9 MB 5.5 MB/s eta 0:00:11\n",
      "   -------------------- ------------------- 65.3/124.9 MB 5.5 MB/s eta 0:00:11\n",
      "   --------------------- ------------------ 65.6/124.9 MB 5.7 MB/s eta 0:00:11\n",
      "   --------------------- ------------------ 65.9/124.9 MB 5.8 MB/s eta 0:00:11\n",
      "   --------------------- ------------------ 66.2/124.9 MB 5.8 MB/s eta 0:00:11\n",
      "   --------------------- ------------------ 66.5/124.9 MB 6.0 MB/s eta 0:00:10\n",
      "   --------------------- ------------------ 66.9/124.9 MB 6.1 MB/s eta 0:00:10\n",
      "   --------------------- ------------------ 67.3/124.9 MB 6.2 MB/s eta 0:00:10\n",
      "   --------------------- ------------------ 67.6/124.9 MB 6.2 MB/s eta 0:00:10\n",
      "   --------------------- ------------------ 67.9/124.9 MB 6.4 MB/s eta 0:00:09\n",
      "   --------------------- ------------------ 68.3/124.9 MB 6.4 MB/s eta 0:00:09\n",
      "   --------------------- ------------------ 68.6/124.9 MB 6.5 MB/s eta 0:00:09\n",
      "   ---------------------- ----------------- 68.9/124.9 MB 6.6 MB/s eta 0:00:09\n",
      "   ---------------------- ----------------- 69.2/124.9 MB 6.6 MB/s eta 0:00:09\n",
      "   ---------------------- ----------------- 69.5/124.9 MB 6.8 MB/s eta 0:00:09\n",
      "   ---------------------- ----------------- 69.8/124.9 MB 6.8 MB/s eta 0:00:09\n",
      "   ---------------------- ----------------- 70.1/124.9 MB 6.9 MB/s eta 0:00:08\n",
      "   ---------------------- ----------------- 70.4/124.9 MB 6.9 MB/s eta 0:00:08\n",
      "   ---------------------- ----------------- 70.8/124.9 MB 7.0 MB/s eta 0:00:08\n",
      "   ---------------------- ----------------- 71.1/124.9 MB 7.1 MB/s eta 0:00:08\n",
      "   ---------------------- ----------------- 71.3/124.9 MB 7.0 MB/s eta 0:00:08\n",
      "   ---------------------- ----------------- 71.6/124.9 MB 7.0 MB/s eta 0:00:08\n",
      "   ----------------------- ---------------- 72.0/124.9 MB 7.1 MB/s eta 0:00:08\n",
      "   ----------------------- ---------------- 72.3/124.9 MB 7.1 MB/s eta 0:00:08\n",
      "   ----------------------- ---------------- 72.6/124.9 MB 7.1 MB/s eta 0:00:08\n",
      "   ----------------------- ---------------- 72.9/124.9 MB 7.2 MB/s eta 0:00:08\n",
      "   ----------------------- ---------------- 73.3/124.9 MB 7.3 MB/s eta 0:00:08\n",
      "   ----------------------- ---------------- 73.6/124.9 MB 7.3 MB/s eta 0:00:08\n",
      "   ----------------------- ---------------- 73.9/124.9 MB 7.3 MB/s eta 0:00:08\n",
      "   ----------------------- ---------------- 74.3/124.9 MB 7.4 MB/s eta 0:00:07\n",
      "   ----------------------- ---------------- 74.7/124.9 MB 7.4 MB/s eta 0:00:07\n",
      "   ------------------------ --------------- 75.1/124.9 MB 7.5 MB/s eta 0:00:07\n",
      "   ------------------------ --------------- 75.4/124.9 MB 7.6 MB/s eta 0:00:07\n",
      "   ------------------------ --------------- 75.8/124.9 MB 7.6 MB/s eta 0:00:07\n",
      "   ------------------------ --------------- 76.2/124.9 MB 7.7 MB/s eta 0:00:07\n",
      "   ------------------------ --------------- 76.5/124.9 MB 7.7 MB/s eta 0:00:07\n",
      "   ------------------------ --------------- 76.9/124.9 MB 7.8 MB/s eta 0:00:07\n",
      "   ------------------------ --------------- 77.2/124.9 MB 7.8 MB/s eta 0:00:07\n",
      "   ------------------------ --------------- 77.5/124.9 MB 7.9 MB/s eta 0:00:07\n",
      "   ------------------------ --------------- 78.0/124.9 MB 7.8 MB/s eta 0:00:07\n",
      "   ------------------------- -------------- 78.4/124.9 MB 7.8 MB/s eta 0:00:06\n",
      "   ------------------------- -------------- 78.7/124.9 MB 8.0 MB/s eta 0:00:06\n",
      "   ------------------------- -------------- 79.1/124.9 MB 8.0 MB/s eta 0:00:06\n",
      "   ------------------------- -------------- 79.4/124.9 MB 8.1 MB/s eta 0:00:06\n",
      "   ------------------------- -------------- 79.7/124.9 MB 8.0 MB/s eta 0:00:06\n",
      "   ------------------------- -------------- 80.1/124.9 MB 8.0 MB/s eta 0:00:06\n",
      "   ------------------------- -------------- 80.5/124.9 MB 8.1 MB/s eta 0:00:06\n",
      "   ------------------------- -------------- 80.9/124.9 MB 8.2 MB/s eta 0:00:06\n",
      "   -------------------------- ------------- 81.2/124.9 MB 8.1 MB/s eta 0:00:06\n",
      "   -------------------------- ------------- 81.7/124.9 MB 8.2 MB/s eta 0:00:06\n",
      "   -------------------------- ------------- 82.0/124.9 MB 8.2 MB/s eta 0:00:06\n",
      "   -------------------------- ------------- 82.3/124.9 MB 8.3 MB/s eta 0:00:06\n",
      "   -------------------------- ------------- 82.6/124.9 MB 8.2 MB/s eta 0:00:06\n",
      "   -------------------------- ------------- 83.0/124.9 MB 8.2 MB/s eta 0:00:06\n",
      "   -------------------------- ------------- 83.3/124.9 MB 8.3 MB/s eta 0:00:06\n",
      "   -------------------------- ------------- 83.6/124.9 MB 8.2 MB/s eta 0:00:06\n",
      "   -------------------------- ------------- 84.0/124.9 MB 8.3 MB/s eta 0:00:05\n",
      "   --------------------------- ------------ 84.3/124.9 MB 8.2 MB/s eta 0:00:05\n",
      "   --------------------------- ------------ 84.6/124.9 MB 8.2 MB/s eta 0:00:05\n",
      "   --------------------------- ------------ 85.0/124.9 MB 8.2 MB/s eta 0:00:05\n",
      "   --------------------------- ------------ 85.3/124.9 MB 8.2 MB/s eta 0:00:05\n",
      "   --------------------------- ------------ 85.6/124.9 MB 8.1 MB/s eta 0:00:05\n",
      "   --------------------------- ------------ 86.0/124.9 MB 8.1 MB/s eta 0:00:05\n",
      "   --------------------------- ------------ 86.3/124.9 MB 8.0 MB/s eta 0:00:05\n",
      "   --------------------------- ------------ 86.6/124.9 MB 8.1 MB/s eta 0:00:05\n",
      "   --------------------------- ------------ 87.0/124.9 MB 8.0 MB/s eta 0:00:05\n",
      "   --------------------------- ------------ 87.4/124.9 MB 8.0 MB/s eta 0:00:05\n",
      "   ---------------------------- ----------- 87.6/124.9 MB 8.0 MB/s eta 0:00:05\n",
      "   ---------------------------- ----------- 87.9/124.9 MB 7.9 MB/s eta 0:00:05\n",
      "   ---------------------------- ----------- 88.3/124.9 MB 7.9 MB/s eta 0:00:05\n",
      "   ---------------------------- ----------- 88.6/124.9 MB 7.9 MB/s eta 0:00:05\n",
      "   ---------------------------- ----------- 89.0/124.9 MB 7.9 MB/s eta 0:00:05\n",
      "   ---------------------------- ----------- 89.4/124.9 MB 7.9 MB/s eta 0:00:05\n",
      "   ---------------------------- ----------- 89.7/124.9 MB 8.0 MB/s eta 0:00:05\n",
      "   ---------------------------- ----------- 90.1/124.9 MB 7.9 MB/s eta 0:00:05\n",
      "   ---------------------------- ----------- 90.5/124.9 MB 8.0 MB/s eta 0:00:05\n",
      "   ----------------------------- ---------- 90.8/124.9 MB 7.9 MB/s eta 0:00:05\n",
      "   ----------------------------- ---------- 91.1/124.9 MB 7.8 MB/s eta 0:00:05\n",
      "   ----------------------------- ---------- 91.4/124.9 MB 8.0 MB/s eta 0:00:05\n",
      "   ----------------------------- ---------- 91.8/124.9 MB 7.9 MB/s eta 0:00:05\n",
      "   ----------------------------- ---------- 92.2/124.9 MB 8.1 MB/s eta 0:00:05\n",
      "   ----------------------------- ---------- 92.6/124.9 MB 7.8 MB/s eta 0:00:05\n",
      "   ----------------------------- ---------- 93.0/124.9 MB 7.9 MB/s eta 0:00:05\n",
      "   ----------------------------- ---------- 93.5/124.9 MB 8.0 MB/s eta 0:00:04\n",
      "   ------------------------------ --------- 93.7/124.9 MB 8.0 MB/s eta 0:00:04\n",
      "   ------------------------------ --------- 94.1/124.9 MB 8.0 MB/s eta 0:00:04\n",
      "   ------------------------------ --------- 94.4/124.9 MB 8.0 MB/s eta 0:00:04\n",
      "   ------------------------------ --------- 94.8/124.9 MB 8.0 MB/s eta 0:00:04\n",
      "   ------------------------------ --------- 95.1/124.9 MB 8.0 MB/s eta 0:00:04\n",
      "   ------------------------------ --------- 95.5/124.9 MB 8.1 MB/s eta 0:00:04\n",
      "   ------------------------------ --------- 95.7/124.9 MB 7.9 MB/s eta 0:00:04\n",
      "   ------------------------------ --------- 95.9/124.9 MB 7.9 MB/s eta 0:00:04\n",
      "   ------------------------------ --------- 96.2/124.9 MB 7.9 MB/s eta 0:00:04\n",
      "   ------------------------------ --------- 96.5/124.9 MB 7.9 MB/s eta 0:00:04\n",
      "   ------------------------------- -------- 96.8/124.9 MB 7.7 MB/s eta 0:00:04\n",
      "   ------------------------------- -------- 97.2/124.9 MB 7.8 MB/s eta 0:00:04\n",
      "   ------------------------------- -------- 97.5/124.9 MB 7.8 MB/s eta 0:00:04\n",
      "   ------------------------------- -------- 97.7/124.9 MB 7.8 MB/s eta 0:00:04\n",
      "   ------------------------------- -------- 98.0/124.9 MB 7.7 MB/s eta 0:00:04\n",
      "   ------------------------------- -------- 98.3/124.9 MB 7.7 MB/s eta 0:00:04\n",
      "   ------------------------------- -------- 98.5/124.9 MB 7.7 MB/s eta 0:00:04\n",
      "   ------------------------------- -------- 98.9/124.9 MB 7.7 MB/s eta 0:00:04\n",
      "   ------------------------------- -------- 99.2/124.9 MB 7.6 MB/s eta 0:00:04\n",
      "   ------------------------------- -------- 99.5/124.9 MB 7.6 MB/s eta 0:00:04\n",
      "   ------------------------------- -------- 99.8/124.9 MB 7.6 MB/s eta 0:00:04\n",
      "   -------------------------------- ------- 100.2/124.9 MB 7.6 MB/s eta 0:00:04\n",
      "   -------------------------------- ------- 100.6/124.9 MB 7.6 MB/s eta 0:00:04\n",
      "   -------------------------------- ------- 100.9/124.9 MB 7.5 MB/s eta 0:00:04\n",
      "   -------------------------------- ------- 101.2/124.9 MB 7.5 MB/s eta 0:00:04\n",
      "   -------------------------------- ------- 101.5/124.9 MB 7.5 MB/s eta 0:00:04\n",
      "   -------------------------------- ------- 101.8/124.9 MB 7.4 MB/s eta 0:00:04\n",
      "   -------------------------------- ------- 102.0/124.9 MB 7.4 MB/s eta 0:00:04\n",
      "   -------------------------------- ------- 102.3/124.9 MB 7.4 MB/s eta 0:00:04\n",
      "   -------------------------------- ------- 102.5/124.9 MB 7.3 MB/s eta 0:00:04\n",
      "   -------------------------------- ------- 102.7/124.9 MB 7.2 MB/s eta 0:00:04\n",
      "   -------------------------------- ------- 103.0/124.9 MB 7.2 MB/s eta 0:00:04\n",
      "   --------------------------------- ------ 103.2/124.9 MB 7.1 MB/s eta 0:00:04\n",
      "   --------------------------------- ------ 103.5/124.9 MB 7.0 MB/s eta 0:00:04\n",
      "   --------------------------------- ------ 103.8/124.9 MB 7.0 MB/s eta 0:00:04\n",
      "   --------------------------------- ------ 104.1/124.9 MB 7.0 MB/s eta 0:00:03\n",
      "   --------------------------------- ------ 104.3/124.9 MB 6.9 MB/s eta 0:00:03\n",
      "   --------------------------------- ------ 104.6/124.9 MB 6.9 MB/s eta 0:00:03\n",
      "   --------------------------------- ------ 105.0/124.9 MB 6.8 MB/s eta 0:00:03\n",
      "   --------------------------------- ------ 105.3/124.9 MB 6.8 MB/s eta 0:00:03\n",
      "   --------------------------------- ------ 105.6/124.9 MB 6.8 MB/s eta 0:00:03\n",
      "   --------------------------------- ------ 105.8/124.9 MB 6.8 MB/s eta 0:00:03\n",
      "   ---------------------------------- ----- 106.2/124.9 MB 6.9 MB/s eta 0:00:03\n",
      "   ---------------------------------- ----- 106.5/124.9 MB 6.8 MB/s eta 0:00:03\n",
      "   ---------------------------------- ----- 106.8/124.9 MB 6.8 MB/s eta 0:00:03\n",
      "   ---------------------------------- ----- 107.0/124.9 MB 6.8 MB/s eta 0:00:03\n",
      "   ---------------------------------- ----- 107.4/124.9 MB 6.8 MB/s eta 0:00:03\n",
      "   ---------------------------------- ----- 107.7/124.9 MB 6.8 MB/s eta 0:00:03\n",
      "   ---------------------------------- ----- 108.0/124.9 MB 6.8 MB/s eta 0:00:03\n",
      "   ---------------------------------- ----- 108.3/124.9 MB 6.8 MB/s eta 0:00:03\n",
      "   ---------------------------------- ----- 108.6/124.9 MB 6.8 MB/s eta 0:00:03\n",
      "   ---------------------------------- ----- 108.9/124.9 MB 6.8 MB/s eta 0:00:03\n",
      "   ---------------------------------- ----- 109.2/124.9 MB 6.9 MB/s eta 0:00:03\n",
      "   ----------------------------------- ---- 109.4/124.9 MB 6.8 MB/s eta 0:00:03\n",
      "   ----------------------------------- ---- 109.8/124.9 MB 6.8 MB/s eta 0:00:03\n",
      "   ----------------------------------- ---- 110.0/124.9 MB 6.8 MB/s eta 0:00:03\n",
      "   ----------------------------------- ---- 110.3/124.9 MB 6.8 MB/s eta 0:00:03\n",
      "   ----------------------------------- ---- 110.5/124.9 MB 6.8 MB/s eta 0:00:03\n",
      "   ----------------------------------- ---- 110.8/124.9 MB 6.7 MB/s eta 0:00:03\n",
      "   ----------------------------------- ---- 110.9/124.9 MB 6.6 MB/s eta 0:00:03\n",
      "   ----------------------------------- ---- 111.2/124.9 MB 6.5 MB/s eta 0:00:03\n",
      "   ----------------------------------- ---- 111.4/124.9 MB 6.5 MB/s eta 0:00:03\n",
      "   ----------------------------------- ---- 111.6/124.9 MB 6.4 MB/s eta 0:00:03\n",
      "   ----------------------------------- ---- 111.8/124.9 MB 6.4 MB/s eta 0:00:03\n",
      "   ----------------------------------- ---- 112.0/124.9 MB 6.3 MB/s eta 0:00:03\n",
      "   ----------------------------------- ---- 112.2/124.9 MB 6.2 MB/s eta 0:00:03\n",
      "   ----------------------------------- ---- 112.4/124.9 MB 6.2 MB/s eta 0:00:03\n",
      "   ------------------------------------ --- 112.6/124.9 MB 6.2 MB/s eta 0:00:02\n",
      "   ------------------------------------ --- 112.8/124.9 MB 6.1 MB/s eta 0:00:02\n",
      "   ------------------------------------ --- 113.0/124.9 MB 6.1 MB/s eta 0:00:02\n",
      "   ------------------------------------ --- 113.2/124.9 MB 6.1 MB/s eta 0:00:02\n",
      "   ------------------------------------ --- 113.4/124.9 MB 6.1 MB/s eta 0:00:02\n",
      "   ------------------------------------ --- 113.7/124.9 MB 6.0 MB/s eta 0:00:02\n",
      "   ------------------------------------ --- 113.9/124.9 MB 6.0 MB/s eta 0:00:02\n",
      "   ------------------------------------ --- 114.1/124.9 MB 6.0 MB/s eta 0:00:02\n",
      "   ------------------------------------ --- 114.4/124.9 MB 6.0 MB/s eta 0:00:02\n",
      "   ------------------------------------ --- 114.6/124.9 MB 6.0 MB/s eta 0:00:02\n",
      "   ------------------------------------ --- 114.8/124.9 MB 5.8 MB/s eta 0:00:02\n",
      "   ------------------------------------ --- 115.1/124.9 MB 5.9 MB/s eta 0:00:02\n",
      "   ------------------------------------ --- 115.1/124.9 MB 5.7 MB/s eta 0:00:02\n",
      "   ------------------------------------ --- 115.3/124.9 MB 5.6 MB/s eta 0:00:02\n",
      "   ------------------------------------- -- 115.6/124.9 MB 5.6 MB/s eta 0:00:02\n",
      "   ------------------------------------- -- 115.9/124.9 MB 5.6 MB/s eta 0:00:02\n",
      "   ------------------------------------- -- 116.2/124.9 MB 5.6 MB/s eta 0:00:02\n",
      "   ------------------------------------- -- 116.4/124.9 MB 5.6 MB/s eta 0:00:02\n",
      "   ------------------------------------- -- 116.7/124.9 MB 5.6 MB/s eta 0:00:02\n",
      "   ------------------------------------- -- 116.9/124.9 MB 5.6 MB/s eta 0:00:02\n",
      "   ------------------------------------- -- 117.2/124.9 MB 5.5 MB/s eta 0:00:02\n",
      "   ------------------------------------- -- 117.5/124.9 MB 5.6 MB/s eta 0:00:02\n",
      "   ------------------------------------- -- 117.8/124.9 MB 5.6 MB/s eta 0:00:02\n",
      "   ------------------------------------- -- 118.0/124.9 MB 5.5 MB/s eta 0:00:02\n",
      "   ------------------------------------- -- 118.3/124.9 MB 5.5 MB/s eta 0:00:02\n",
      "   ------------------------------------- -- 118.6/124.9 MB 5.5 MB/s eta 0:00:02\n",
      "   -------------------------------------- - 118.9/124.9 MB 5.5 MB/s eta 0:00:02\n",
      "   -------------------------------------- - 119.2/124.9 MB 5.5 MB/s eta 0:00:02\n",
      "   -------------------------------------- - 119.5/124.9 MB 5.5 MB/s eta 0:00:01\n",
      "   -------------------------------------- - 119.8/124.9 MB 5.5 MB/s eta 0:00:01\n",
      "   -------------------------------------- - 120.1/124.9 MB 5.5 MB/s eta 0:00:01\n",
      "   -------------------------------------- - 120.3/124.9 MB 5.5 MB/s eta 0:00:01\n",
      "   -------------------------------------- - 120.6/124.9 MB 5.5 MB/s eta 0:00:01\n",
      "   -------------------------------------- - 120.9/124.9 MB 5.5 MB/s eta 0:00:01\n",
      "   -------------------------------------- - 121.0/124.9 MB 5.5 MB/s eta 0:00:01\n",
      "   -------------------------------------- - 121.0/124.9 MB 5.3 MB/s eta 0:00:01\n",
      "   -------------------------------------- - 121.3/124.9 MB 5.4 MB/s eta 0:00:01\n",
      "   -------------------------------------- - 121.6/124.9 MB 5.5 MB/s eta 0:00:01\n",
      "   ---------------------------------------  121.9/124.9 MB 5.5 MB/s eta 0:00:01\n",
      "   ---------------------------------------  122.2/124.9 MB 5.5 MB/s eta 0:00:01\n",
      "   ---------------------------------------  122.5/124.9 MB 5.6 MB/s eta 0:00:01\n",
      "   ---------------------------------------  122.8/124.9 MB 5.7 MB/s eta 0:00:01\n",
      "   ---------------------------------------  123.1/124.9 MB 5.7 MB/s eta 0:00:01\n",
      "   ---------------------------------------  123.4/124.9 MB 5.8 MB/s eta 0:00:01\n",
      "   ---------------------------------------  123.8/124.9 MB 5.8 MB/s eta 0:00:01\n",
      "   ---------------------------------------  124.1/124.9 MB 6.0 MB/s eta 0:00:01\n",
      "   ---------------------------------------  124.4/124.9 MB 6.0 MB/s eta 0:00:01\n",
      "   ---------------------------------------  124.7/124.9 MB 6.1 MB/s eta 0:00:01\n",
      "   ---------------------------------------  124.9/124.9 MB 6.1 MB/s eta 0:00:01\n",
      "   ---------------------------------------  124.9/124.9 MB 6.1 MB/s eta 0:00:01\n",
      "   ---------------------------------------  124.9/124.9 MB 6.1 MB/s eta 0:00:01\n",
      "   ---------------------------------------  124.9/124.9 MB 6.1 MB/s eta 0:00:01\n",
      "   ---------------------------------------  124.9/124.9 MB 6.1 MB/s eta 0:00:01\n",
      "   ---------------------------------------  124.9/124.9 MB 6.1 MB/s eta 0:00:01\n",
      "   ---------------------------------------  124.9/124.9 MB 6.1 MB/s eta 0:00:01\n",
      "   ---------------------------------------  124.9/124.9 MB 6.1 MB/s eta 0:00:01\n",
      "   ---------------------------------------  124.9/124.9 MB 6.1 MB/s eta 0:00:01\n",
      "   ---------------------------------------- 124.9/124.9 MB 5.0 MB/s eta 0:00:00\n",
      "Installing collected packages: xgboost\n",
      "Successfully installed xgboost-2.1.1\n",
      "Note: you may need to restart the kernel to use updated packages.\n"
     ]
    },
    {
     "name": "stderr",
     "output_type": "stream",
     "text": [
      "\n",
      "[notice] A new release of pip is available: 23.3.1 -> 24.2\n",
      "[notice] To update, run: python.exe -m pip install --upgrade pip\n"
     ]
    }
   ],
   "source": [
    "#pip install xgboost"
   ]
  },
  {
   "cell_type": "code",
   "execution_count": 25,
   "metadata": {},
   "outputs": [],
   "source": [
    "from xgboost import XGBClassifier"
   ]
  },
  {
   "cell_type": "code",
   "execution_count": 26,
   "metadata": {},
   "outputs": [],
   "source": [
    "\n",
    "clf = Pipeline([\n",
    "    ('vectorizer_tri_grams', TfidfVectorizer()),\n",
    "    ('naive_bayes', (XGBClassifier()))         \n",
    "])"
   ]
  },
  {
   "cell_type": "code",
   "execution_count": 27,
   "metadata": {},
   "outputs": [
    {
     "data": {
      "text/html": [
       "<style>#sk-container-id-3 {color: black;}#sk-container-id-3 pre{padding: 0;}#sk-container-id-3 div.sk-toggleable {background-color: white;}#sk-container-id-3 label.sk-toggleable__label {cursor: pointer;display: block;width: 100%;margin-bottom: 0;padding: 0.3em;box-sizing: border-box;text-align: center;}#sk-container-id-3 label.sk-toggleable__label-arrow:before {content: \"▸\";float: left;margin-right: 0.25em;color: #696969;}#sk-container-id-3 label.sk-toggleable__label-arrow:hover:before {color: black;}#sk-container-id-3 div.sk-estimator:hover label.sk-toggleable__label-arrow:before {color: black;}#sk-container-id-3 div.sk-toggleable__content {max-height: 0;max-width: 0;overflow: hidden;text-align: left;background-color: #f0f8ff;}#sk-container-id-3 div.sk-toggleable__content pre {margin: 0.2em;color: black;border-radius: 0.25em;background-color: #f0f8ff;}#sk-container-id-3 input.sk-toggleable__control:checked~div.sk-toggleable__content {max-height: 200px;max-width: 100%;overflow: auto;}#sk-container-id-3 input.sk-toggleable__control:checked~label.sk-toggleable__label-arrow:before {content: \"▾\";}#sk-container-id-3 div.sk-estimator input.sk-toggleable__control:checked~label.sk-toggleable__label {background-color: #d4ebff;}#sk-container-id-3 div.sk-label input.sk-toggleable__control:checked~label.sk-toggleable__label {background-color: #d4ebff;}#sk-container-id-3 input.sk-hidden--visually {border: 0;clip: rect(1px 1px 1px 1px);clip: rect(1px, 1px, 1px, 1px);height: 1px;margin: -1px;overflow: hidden;padding: 0;position: absolute;width: 1px;}#sk-container-id-3 div.sk-estimator {font-family: monospace;background-color: #f0f8ff;border: 1px dotted black;border-radius: 0.25em;box-sizing: border-box;margin-bottom: 0.5em;}#sk-container-id-3 div.sk-estimator:hover {background-color: #d4ebff;}#sk-container-id-3 div.sk-parallel-item::after {content: \"\";width: 100%;border-bottom: 1px solid gray;flex-grow: 1;}#sk-container-id-3 div.sk-label:hover label.sk-toggleable__label {background-color: #d4ebff;}#sk-container-id-3 div.sk-serial::before {content: \"\";position: absolute;border-left: 1px solid gray;box-sizing: border-box;top: 0;bottom: 0;left: 50%;z-index: 0;}#sk-container-id-3 div.sk-serial {display: flex;flex-direction: column;align-items: center;background-color: white;padding-right: 0.2em;padding-left: 0.2em;position: relative;}#sk-container-id-3 div.sk-item {position: relative;z-index: 1;}#sk-container-id-3 div.sk-parallel {display: flex;align-items: stretch;justify-content: center;background-color: white;position: relative;}#sk-container-id-3 div.sk-item::before, #sk-container-id-3 div.sk-parallel-item::before {content: \"\";position: absolute;border-left: 1px solid gray;box-sizing: border-box;top: 0;bottom: 0;left: 50%;z-index: -1;}#sk-container-id-3 div.sk-parallel-item {display: flex;flex-direction: column;z-index: 1;position: relative;background-color: white;}#sk-container-id-3 div.sk-parallel-item:first-child::after {align-self: flex-end;width: 50%;}#sk-container-id-3 div.sk-parallel-item:last-child::after {align-self: flex-start;width: 50%;}#sk-container-id-3 div.sk-parallel-item:only-child::after {width: 0;}#sk-container-id-3 div.sk-dashed-wrapped {border: 1px dashed gray;margin: 0 0.4em 0.5em 0.4em;box-sizing: border-box;padding-bottom: 0.4em;background-color: white;}#sk-container-id-3 div.sk-label label {font-family: monospace;font-weight: bold;display: inline-block;line-height: 1.2em;}#sk-container-id-3 div.sk-label-container {text-align: center;}#sk-container-id-3 div.sk-container {/* jupyter's `normalize.less` sets `[hidden] { display: none; }` but bootstrap.min.css set `[hidden] { display: none !important; }` so we also need the `!important` here to be able to override the default hidden behavior on the sphinx rendered scikit-learn.org. See: https://github.com/scikit-learn/scikit-learn/issues/21755 */display: inline-block !important;position: relative;}#sk-container-id-3 div.sk-text-repr-fallback {display: none;}</style><div id=\"sk-container-id-3\" class=\"sk-top-container\"><div class=\"sk-text-repr-fallback\"><pre>Pipeline(steps=[(&#x27;vectorizer_tri_grams&#x27;, TfidfVectorizer()),\n",
       "                (&#x27;naive_bayes&#x27;,\n",
       "                 XGBClassifier(base_score=None, booster=None, callbacks=None,\n",
       "                               colsample_bylevel=None, colsample_bynode=None,\n",
       "                               colsample_bytree=None, device=None,\n",
       "                               early_stopping_rounds=None,\n",
       "                               enable_categorical=False, eval_metric=None,\n",
       "                               feature_types=None, gamma=None, grow_policy=None,\n",
       "                               importance_type=None,\n",
       "                               interaction_constraints=None, learning_rate=None,\n",
       "                               max_bin=None, max_cat_threshold=None,\n",
       "                               max_cat_to_onehot=None, max_delta_step=None,\n",
       "                               max_depth=None, max_leaves=None,\n",
       "                               min_child_weight=None, missing=nan,\n",
       "                               monotone_constraints=None, multi_strategy=None,\n",
       "                               n_estimators=None, n_jobs=None,\n",
       "                               num_parallel_tree=None,\n",
       "                               objective=&#x27;multi:softprob&#x27;, ...))])</pre><b>In a Jupyter environment, please rerun this cell to show the HTML representation or trust the notebook. <br />On GitHub, the HTML representation is unable to render, please try loading this page with nbviewer.org.</b></div><div class=\"sk-container\" hidden><div class=\"sk-item sk-dashed-wrapped\"><div class=\"sk-label-container\"><div class=\"sk-label sk-toggleable\"><input class=\"sk-toggleable__control sk-hidden--visually\" id=\"sk-estimator-id-7\" type=\"checkbox\" ><label for=\"sk-estimator-id-7\" class=\"sk-toggleable__label sk-toggleable__label-arrow\">Pipeline</label><div class=\"sk-toggleable__content\"><pre>Pipeline(steps=[(&#x27;vectorizer_tri_grams&#x27;, TfidfVectorizer()),\n",
       "                (&#x27;naive_bayes&#x27;,\n",
       "                 XGBClassifier(base_score=None, booster=None, callbacks=None,\n",
       "                               colsample_bylevel=None, colsample_bynode=None,\n",
       "                               colsample_bytree=None, device=None,\n",
       "                               early_stopping_rounds=None,\n",
       "                               enable_categorical=False, eval_metric=None,\n",
       "                               feature_types=None, gamma=None, grow_policy=None,\n",
       "                               importance_type=None,\n",
       "                               interaction_constraints=None, learning_rate=None,\n",
       "                               max_bin=None, max_cat_threshold=None,\n",
       "                               max_cat_to_onehot=None, max_delta_step=None,\n",
       "                               max_depth=None, max_leaves=None,\n",
       "                               min_child_weight=None, missing=nan,\n",
       "                               monotone_constraints=None, multi_strategy=None,\n",
       "                               n_estimators=None, n_jobs=None,\n",
       "                               num_parallel_tree=None,\n",
       "                               objective=&#x27;multi:softprob&#x27;, ...))])</pre></div></div></div><div class=\"sk-serial\"><div class=\"sk-item\"><div class=\"sk-estimator sk-toggleable\"><input class=\"sk-toggleable__control sk-hidden--visually\" id=\"sk-estimator-id-8\" type=\"checkbox\" ><label for=\"sk-estimator-id-8\" class=\"sk-toggleable__label sk-toggleable__label-arrow\">TfidfVectorizer</label><div class=\"sk-toggleable__content\"><pre>TfidfVectorizer()</pre></div></div></div><div class=\"sk-item\"><div class=\"sk-estimator sk-toggleable\"><input class=\"sk-toggleable__control sk-hidden--visually\" id=\"sk-estimator-id-9\" type=\"checkbox\" ><label for=\"sk-estimator-id-9\" class=\"sk-toggleable__label sk-toggleable__label-arrow\">XGBClassifier</label><div class=\"sk-toggleable__content\"><pre>XGBClassifier(base_score=None, booster=None, callbacks=None,\n",
       "              colsample_bylevel=None, colsample_bynode=None,\n",
       "              colsample_bytree=None, device=None, early_stopping_rounds=None,\n",
       "              enable_categorical=False, eval_metric=None, feature_types=None,\n",
       "              gamma=None, grow_policy=None, importance_type=None,\n",
       "              interaction_constraints=None, learning_rate=None, max_bin=None,\n",
       "              max_cat_threshold=None, max_cat_to_onehot=None,\n",
       "              max_delta_step=None, max_depth=None, max_leaves=None,\n",
       "              min_child_weight=None, missing=nan, monotone_constraints=None,\n",
       "              multi_strategy=None, n_estimators=None, n_jobs=None,\n",
       "              num_parallel_tree=None, objective=&#x27;multi:softprob&#x27;, ...)</pre></div></div></div></div></div></div></div>"
      ],
      "text/plain": [
       "Pipeline(steps=[('vectorizer_tri_grams', TfidfVectorizer()),\n",
       "                ('naive_bayes',\n",
       "                 XGBClassifier(base_score=None, booster=None, callbacks=None,\n",
       "                               colsample_bylevel=None, colsample_bynode=None,\n",
       "                               colsample_bytree=None, device=None,\n",
       "                               early_stopping_rounds=None,\n",
       "                               enable_categorical=False, eval_metric=None,\n",
       "                               feature_types=None, gamma=None, grow_policy=None,\n",
       "                               importance_type=None,\n",
       "                               interaction_constraints=None, learning_rate=None,\n",
       "                               max_bin=None, max_cat_threshold=None,\n",
       "                               max_cat_to_onehot=None, max_delta_step=None,\n",
       "                               max_depth=None, max_leaves=None,\n",
       "                               min_child_weight=None, missing=nan,\n",
       "                               monotone_constraints=None, multi_strategy=None,\n",
       "                               n_estimators=None, n_jobs=None,\n",
       "                               num_parallel_tree=None,\n",
       "                               objective='multi:softprob', ...))])"
      ]
     },
     "execution_count": 27,
     "metadata": {},
     "output_type": "execute_result"
    }
   ],
   "source": [
    "clf.fit(x_train, y_train)"
   ]
  },
  {
   "cell_type": "code",
   "execution_count": 28,
   "metadata": {},
   "outputs": [],
   "source": [
    "y_pred = clf.predict(x_test)"
   ]
  },
  {
   "cell_type": "code",
   "execution_count": 29,
   "metadata": {},
   "outputs": [
    {
     "name": "stdout",
     "output_type": "stream",
     "text": [
      "0.6462162162162162\n",
      "              precision    recall  f1-score   support\n",
      "\n",
      "           0       0.74      0.35      0.47      2575\n",
      "           1       0.59      0.84      0.69      4472\n",
      "           2       0.71      0.58      0.64      3622\n",
      "           3       0.66      0.68      0.67      4131\n",
      "\n",
      "    accuracy                           0.65     14800\n",
      "   macro avg       0.67      0.61      0.62     14800\n",
      "weighted avg       0.66      0.65      0.64     14800\n",
      "\n"
     ]
    }
   ],
   "source": [
    "print(accuracy_score(y_test, y_pred))\n",
    "print(classification_report(y_test, y_pred))"
   ]
  },
  {
   "cell_type": "code",
   "execution_count": 30,
   "metadata": {},
   "outputs": [],
   "source": [
    "from sklearn.ensemble import GradientBoostingClassifier"
   ]
  },
  {
   "cell_type": "code",
   "execution_count": 31,
   "metadata": {},
   "outputs": [],
   "source": [
    "\n",
    "clf = Pipeline([\n",
    "    ('vectorizer_tri_grams', TfidfVectorizer()),\n",
    "    ('naive_bayes', (GradientBoostingClassifier()))         \n",
    "])"
   ]
  },
  {
   "cell_type": "code",
   "execution_count": 32,
   "metadata": {},
   "outputs": [
    {
     "data": {
      "text/html": [
       "<style>#sk-container-id-4 {color: black;}#sk-container-id-4 pre{padding: 0;}#sk-container-id-4 div.sk-toggleable {background-color: white;}#sk-container-id-4 label.sk-toggleable__label {cursor: pointer;display: block;width: 100%;margin-bottom: 0;padding: 0.3em;box-sizing: border-box;text-align: center;}#sk-container-id-4 label.sk-toggleable__label-arrow:before {content: \"▸\";float: left;margin-right: 0.25em;color: #696969;}#sk-container-id-4 label.sk-toggleable__label-arrow:hover:before {color: black;}#sk-container-id-4 div.sk-estimator:hover label.sk-toggleable__label-arrow:before {color: black;}#sk-container-id-4 div.sk-toggleable__content {max-height: 0;max-width: 0;overflow: hidden;text-align: left;background-color: #f0f8ff;}#sk-container-id-4 div.sk-toggleable__content pre {margin: 0.2em;color: black;border-radius: 0.25em;background-color: #f0f8ff;}#sk-container-id-4 input.sk-toggleable__control:checked~div.sk-toggleable__content {max-height: 200px;max-width: 100%;overflow: auto;}#sk-container-id-4 input.sk-toggleable__control:checked~label.sk-toggleable__label-arrow:before {content: \"▾\";}#sk-container-id-4 div.sk-estimator input.sk-toggleable__control:checked~label.sk-toggleable__label {background-color: #d4ebff;}#sk-container-id-4 div.sk-label input.sk-toggleable__control:checked~label.sk-toggleable__label {background-color: #d4ebff;}#sk-container-id-4 input.sk-hidden--visually {border: 0;clip: rect(1px 1px 1px 1px);clip: rect(1px, 1px, 1px, 1px);height: 1px;margin: -1px;overflow: hidden;padding: 0;position: absolute;width: 1px;}#sk-container-id-4 div.sk-estimator {font-family: monospace;background-color: #f0f8ff;border: 1px dotted black;border-radius: 0.25em;box-sizing: border-box;margin-bottom: 0.5em;}#sk-container-id-4 div.sk-estimator:hover {background-color: #d4ebff;}#sk-container-id-4 div.sk-parallel-item::after {content: \"\";width: 100%;border-bottom: 1px solid gray;flex-grow: 1;}#sk-container-id-4 div.sk-label:hover label.sk-toggleable__label {background-color: #d4ebff;}#sk-container-id-4 div.sk-serial::before {content: \"\";position: absolute;border-left: 1px solid gray;box-sizing: border-box;top: 0;bottom: 0;left: 50%;z-index: 0;}#sk-container-id-4 div.sk-serial {display: flex;flex-direction: column;align-items: center;background-color: white;padding-right: 0.2em;padding-left: 0.2em;position: relative;}#sk-container-id-4 div.sk-item {position: relative;z-index: 1;}#sk-container-id-4 div.sk-parallel {display: flex;align-items: stretch;justify-content: center;background-color: white;position: relative;}#sk-container-id-4 div.sk-item::before, #sk-container-id-4 div.sk-parallel-item::before {content: \"\";position: absolute;border-left: 1px solid gray;box-sizing: border-box;top: 0;bottom: 0;left: 50%;z-index: -1;}#sk-container-id-4 div.sk-parallel-item {display: flex;flex-direction: column;z-index: 1;position: relative;background-color: white;}#sk-container-id-4 div.sk-parallel-item:first-child::after {align-self: flex-end;width: 50%;}#sk-container-id-4 div.sk-parallel-item:last-child::after {align-self: flex-start;width: 50%;}#sk-container-id-4 div.sk-parallel-item:only-child::after {width: 0;}#sk-container-id-4 div.sk-dashed-wrapped {border: 1px dashed gray;margin: 0 0.4em 0.5em 0.4em;box-sizing: border-box;padding-bottom: 0.4em;background-color: white;}#sk-container-id-4 div.sk-label label {font-family: monospace;font-weight: bold;display: inline-block;line-height: 1.2em;}#sk-container-id-4 div.sk-label-container {text-align: center;}#sk-container-id-4 div.sk-container {/* jupyter's `normalize.less` sets `[hidden] { display: none; }` but bootstrap.min.css set `[hidden] { display: none !important; }` so we also need the `!important` here to be able to override the default hidden behavior on the sphinx rendered scikit-learn.org. See: https://github.com/scikit-learn/scikit-learn/issues/21755 */display: inline-block !important;position: relative;}#sk-container-id-4 div.sk-text-repr-fallback {display: none;}</style><div id=\"sk-container-id-4\" class=\"sk-top-container\"><div class=\"sk-text-repr-fallback\"><pre>Pipeline(steps=[(&#x27;vectorizer_tri_grams&#x27;, TfidfVectorizer()),\n",
       "                (&#x27;naive_bayes&#x27;, GradientBoostingClassifier())])</pre><b>In a Jupyter environment, please rerun this cell to show the HTML representation or trust the notebook. <br />On GitHub, the HTML representation is unable to render, please try loading this page with nbviewer.org.</b></div><div class=\"sk-container\" hidden><div class=\"sk-item sk-dashed-wrapped\"><div class=\"sk-label-container\"><div class=\"sk-label sk-toggleable\"><input class=\"sk-toggleable__control sk-hidden--visually\" id=\"sk-estimator-id-10\" type=\"checkbox\" ><label for=\"sk-estimator-id-10\" class=\"sk-toggleable__label sk-toggleable__label-arrow\">Pipeline</label><div class=\"sk-toggleable__content\"><pre>Pipeline(steps=[(&#x27;vectorizer_tri_grams&#x27;, TfidfVectorizer()),\n",
       "                (&#x27;naive_bayes&#x27;, GradientBoostingClassifier())])</pre></div></div></div><div class=\"sk-serial\"><div class=\"sk-item\"><div class=\"sk-estimator sk-toggleable\"><input class=\"sk-toggleable__control sk-hidden--visually\" id=\"sk-estimator-id-11\" type=\"checkbox\" ><label for=\"sk-estimator-id-11\" class=\"sk-toggleable__label sk-toggleable__label-arrow\">TfidfVectorizer</label><div class=\"sk-toggleable__content\"><pre>TfidfVectorizer()</pre></div></div></div><div class=\"sk-item\"><div class=\"sk-estimator sk-toggleable\"><input class=\"sk-toggleable__control sk-hidden--visually\" id=\"sk-estimator-id-12\" type=\"checkbox\" ><label for=\"sk-estimator-id-12\" class=\"sk-toggleable__label sk-toggleable__label-arrow\">GradientBoostingClassifier</label><div class=\"sk-toggleable__content\"><pre>GradientBoostingClassifier()</pre></div></div></div></div></div></div></div>"
      ],
      "text/plain": [
       "Pipeline(steps=[('vectorizer_tri_grams', TfidfVectorizer()),\n",
       "                ('naive_bayes', GradientBoostingClassifier())])"
      ]
     },
     "execution_count": 32,
     "metadata": {},
     "output_type": "execute_result"
    }
   ],
   "source": [
    "clf.fit(x_train, y_train)"
   ]
  },
  {
   "cell_type": "code",
   "execution_count": 33,
   "metadata": {},
   "outputs": [],
   "source": [
    "y_pred = clf.predict(x_test)"
   ]
  },
  {
   "cell_type": "code",
   "execution_count": 34,
   "metadata": {},
   "outputs": [
    {
     "name": "stdout",
     "output_type": "stream",
     "text": [
      "0.5350675675675676\n",
      "              precision    recall  f1-score   support\n",
      "\n",
      "           0       0.66      0.16      0.26      2575\n",
      "           1       0.47      0.82      0.60      4472\n",
      "           2       0.62      0.44      0.52      3622\n",
      "           3       0.59      0.54      0.56      4131\n",
      "\n",
      "    accuracy                           0.54     14800\n",
      "   macro avg       0.59      0.49      0.48     14800\n",
      "weighted avg       0.57      0.54      0.51     14800\n",
      "\n"
     ]
    }
   ],
   "source": [
    "print(accuracy_score(y_test, y_pred))\n",
    "print(classification_report(y_test, y_pred))"
   ]
  },
  {
   "cell_type": "code",
   "execution_count": 35,
   "metadata": {},
   "outputs": [],
   "source": [
    "test_data = pd.read_csv('twitter_validation.csv', names=col)"
   ]
  },
  {
   "cell_type": "code",
   "execution_count": 36,
   "metadata": {},
   "outputs": [
    {
     "name": "stdout",
     "output_type": "stream",
     "text": [
      "#gtc20 -  nice, motivational, and very accessible Nvidia/AI product fair + related tech talks\n",
      "nvidia.com/en-us/gtc/keyn…\n",
      "interesting interaction/social activities: braindates, dinner with strangers, ...  and free attendance for universities: reg.rainfocus.com/flow/nvidia/gt… ===> Neutral\n"
     ]
    }
   ],
   "source": [
    "test_txt = test_data['Text'][25]\n",
    "print(f\"{test_txt} ===> {test_data['Label'][25]}\")"
   ]
  },
  {
   "cell_type": "code",
   "execution_count": 37,
   "metadata": {},
   "outputs": [
    {
     "data": {
      "text/plain": [
       "['gtc20   nice motivational accessible Nvidia AI product fair + related tech talk \\n nvidia.com/en-us/gtc/keyn \\n interesting interaction social activity braindate dinner stranger   free attendance university reg.rainfocus.com/flow/nvidia/gt']"
      ]
     },
     "execution_count": 37,
     "metadata": {},
     "output_type": "execute_result"
    }
   ],
   "source": [
    "# Apply preprocess\n",
    "\n",
    "test_txt_processed = [preprocess(test_txt)]\n",
    "test_txt_processed"
   ]
  },
  {
   "cell_type": "code",
   "execution_count": 38,
   "metadata": {},
   "outputs": [
    {
     "name": "stdout",
     "output_type": "stream",
     "text": [
      "True Label: Neutral\n",
      "Predict Label: Negative\n"
     ]
    }
   ],
   "source": [
    "# Get Prediction\n",
    "\n",
    "test_txt = clf.predict(test_txt_processed)\n",
    "classes = ['Irrelevant', 'Natural', 'Negative', 'Positive']\n",
    "\n",
    "print(f\"True Label: {test_data['Label'][25]}\")\n",
    "print(f'Predict Label: {classes[test_txt[0]]}')"
   ]
  }
 ],
 "metadata": {
  "kernelspec": {
   "display_name": "Python 3",
   "language": "python",
   "name": "python3"
  },
  "language_info": {
   "codemirror_mode": {
    "name": "ipython",
    "version": 3
   },
   "file_extension": ".py",
   "mimetype": "text/x-python",
   "name": "python",
   "nbconvert_exporter": "python",
   "pygments_lexer": "ipython3",
   "version": "3.11.3"
  }
 },
 "nbformat": 4,
 "nbformat_minor": 2
}
